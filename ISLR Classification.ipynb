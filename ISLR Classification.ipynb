{
 "cells": [
  {
   "cell_type": "markdown",
   "metadata": {},
   "source": [
    "# 1 ISLR Classification Lab"
   ]
  },
  {
   "cell_type": "code",
   "execution_count": 1,
   "metadata": {},
   "outputs": [],
   "source": [
    "import pandas as pd\n",
    "import numpy as np\n",
    "import math\n",
    "import matplotlib.pyplot as plt\n",
    "import seaborn as sns\n",
    "\n",
    "from sklearn.linear_model import LogisticRegression\n",
    "from sklearn.discriminant_analysis import LinearDiscriminantAnalysis as LDA\n",
    "from sklearn.discriminant_analysis import QuadraticDiscriminantAnalysis as QDA\n",
    "from sklearn.naive_bayes import GaussianNB as GNB\n",
    "from sklearn.naive_bayes import CategoricalNB as CNB\n",
    "from sklearn.preprocessing import PolynomialFeatures\n",
    "\n",
    "from sklearn.neighbors import KNeighborsClassifier as KNN\n",
    "from sklearn.preprocessing import scale\n",
    "from sklearn.metrics import confusion_matrix\n",
    "\n",
    "import statsmodels.api as sm\n",
    "import statsmodels.formula.api as smf\n",
    "\n",
    "%matplotlib inline\n",
    "sns.set_style(\"darkgrid\")"
   ]
  },
  {
   "cell_type": "markdown",
   "metadata": {},
   "source": [
    "## 4.7.1 The Stock Market Data"
   ]
  },
  {
   "cell_type": "code",
   "execution_count": 2,
   "metadata": {},
   "outputs": [
    {
     "data": {
      "text/html": [
       "<div>\n",
       "<style scoped>\n",
       "    .dataframe tbody tr th:only-of-type {\n",
       "        vertical-align: middle;\n",
       "    }\n",
       "\n",
       "    .dataframe tbody tr th {\n",
       "        vertical-align: top;\n",
       "    }\n",
       "\n",
       "    .dataframe thead th {\n",
       "        text-align: right;\n",
       "    }\n",
       "</style>\n",
       "<table border=\"1\" class=\"dataframe\">\n",
       "  <thead>\n",
       "    <tr style=\"text-align: right;\">\n",
       "      <th></th>\n",
       "      <th>Year</th>\n",
       "      <th>Lag1</th>\n",
       "      <th>Lag2</th>\n",
       "      <th>Lag3</th>\n",
       "      <th>Lag4</th>\n",
       "      <th>Lag5</th>\n",
       "      <th>Volume</th>\n",
       "      <th>Today</th>\n",
       "      <th>Direction</th>\n",
       "    </tr>\n",
       "  </thead>\n",
       "  <tbody>\n",
       "    <tr>\n",
       "      <th>1</th>\n",
       "      <td>2001</td>\n",
       "      <td>0.381</td>\n",
       "      <td>-0.192</td>\n",
       "      <td>-2.624</td>\n",
       "      <td>-1.055</td>\n",
       "      <td>5.010</td>\n",
       "      <td>1.19130</td>\n",
       "      <td>0.959</td>\n",
       "      <td>Up</td>\n",
       "    </tr>\n",
       "    <tr>\n",
       "      <th>2</th>\n",
       "      <td>2001</td>\n",
       "      <td>0.959</td>\n",
       "      <td>0.381</td>\n",
       "      <td>-0.192</td>\n",
       "      <td>-2.624</td>\n",
       "      <td>-1.055</td>\n",
       "      <td>1.29650</td>\n",
       "      <td>1.032</td>\n",
       "      <td>Up</td>\n",
       "    </tr>\n",
       "    <tr>\n",
       "      <th>3</th>\n",
       "      <td>2001</td>\n",
       "      <td>1.032</td>\n",
       "      <td>0.959</td>\n",
       "      <td>0.381</td>\n",
       "      <td>-0.192</td>\n",
       "      <td>-2.624</td>\n",
       "      <td>1.41120</td>\n",
       "      <td>-0.623</td>\n",
       "      <td>Down</td>\n",
       "    </tr>\n",
       "    <tr>\n",
       "      <th>4</th>\n",
       "      <td>2001</td>\n",
       "      <td>-0.623</td>\n",
       "      <td>1.032</td>\n",
       "      <td>0.959</td>\n",
       "      <td>0.381</td>\n",
       "      <td>-0.192</td>\n",
       "      <td>1.27600</td>\n",
       "      <td>0.614</td>\n",
       "      <td>Up</td>\n",
       "    </tr>\n",
       "    <tr>\n",
       "      <th>5</th>\n",
       "      <td>2001</td>\n",
       "      <td>0.614</td>\n",
       "      <td>-0.623</td>\n",
       "      <td>1.032</td>\n",
       "      <td>0.959</td>\n",
       "      <td>0.381</td>\n",
       "      <td>1.20570</td>\n",
       "      <td>0.213</td>\n",
       "      <td>Up</td>\n",
       "    </tr>\n",
       "    <tr>\n",
       "      <th>...</th>\n",
       "      <td>...</td>\n",
       "      <td>...</td>\n",
       "      <td>...</td>\n",
       "      <td>...</td>\n",
       "      <td>...</td>\n",
       "      <td>...</td>\n",
       "      <td>...</td>\n",
       "      <td>...</td>\n",
       "      <td>...</td>\n",
       "    </tr>\n",
       "    <tr>\n",
       "      <th>1246</th>\n",
       "      <td>2005</td>\n",
       "      <td>0.422</td>\n",
       "      <td>0.252</td>\n",
       "      <td>-0.024</td>\n",
       "      <td>-0.584</td>\n",
       "      <td>-0.285</td>\n",
       "      <td>1.88850</td>\n",
       "      <td>0.043</td>\n",
       "      <td>Up</td>\n",
       "    </tr>\n",
       "    <tr>\n",
       "      <th>1247</th>\n",
       "      <td>2005</td>\n",
       "      <td>0.043</td>\n",
       "      <td>0.422</td>\n",
       "      <td>0.252</td>\n",
       "      <td>-0.024</td>\n",
       "      <td>-0.584</td>\n",
       "      <td>1.28581</td>\n",
       "      <td>-0.955</td>\n",
       "      <td>Down</td>\n",
       "    </tr>\n",
       "    <tr>\n",
       "      <th>1248</th>\n",
       "      <td>2005</td>\n",
       "      <td>-0.955</td>\n",
       "      <td>0.043</td>\n",
       "      <td>0.422</td>\n",
       "      <td>0.252</td>\n",
       "      <td>-0.024</td>\n",
       "      <td>1.54047</td>\n",
       "      <td>0.130</td>\n",
       "      <td>Up</td>\n",
       "    </tr>\n",
       "    <tr>\n",
       "      <th>1249</th>\n",
       "      <td>2005</td>\n",
       "      <td>0.130</td>\n",
       "      <td>-0.955</td>\n",
       "      <td>0.043</td>\n",
       "      <td>0.422</td>\n",
       "      <td>0.252</td>\n",
       "      <td>1.42236</td>\n",
       "      <td>-0.298</td>\n",
       "      <td>Down</td>\n",
       "    </tr>\n",
       "    <tr>\n",
       "      <th>1250</th>\n",
       "      <td>2005</td>\n",
       "      <td>-0.298</td>\n",
       "      <td>0.130</td>\n",
       "      <td>-0.955</td>\n",
       "      <td>0.043</td>\n",
       "      <td>0.422</td>\n",
       "      <td>1.38254</td>\n",
       "      <td>-0.489</td>\n",
       "      <td>Down</td>\n",
       "    </tr>\n",
       "  </tbody>\n",
       "</table>\n",
       "<p>1250 rows × 9 columns</p>\n",
       "</div>"
      ],
      "text/plain": [
       "      Year   Lag1   Lag2   Lag3   Lag4   Lag5   Volume  Today Direction\n",
       "1     2001  0.381 -0.192 -2.624 -1.055  5.010  1.19130  0.959        Up\n",
       "2     2001  0.959  0.381 -0.192 -2.624 -1.055  1.29650  1.032        Up\n",
       "3     2001  1.032  0.959  0.381 -0.192 -2.624  1.41120 -0.623      Down\n",
       "4     2001 -0.623  1.032  0.959  0.381 -0.192  1.27600  0.614        Up\n",
       "5     2001  0.614 -0.623  1.032  0.959  0.381  1.20570  0.213        Up\n",
       "...    ...    ...    ...    ...    ...    ...      ...    ...       ...\n",
       "1246  2005  0.422  0.252 -0.024 -0.584 -0.285  1.88850  0.043        Up\n",
       "1247  2005  0.043  0.422  0.252 -0.024 -0.584  1.28581 -0.955      Down\n",
       "1248  2005 -0.955  0.043  0.422  0.252 -0.024  1.54047  0.130        Up\n",
       "1249  2005  0.130 -0.955  0.043  0.422  0.252  1.42236 -0.298      Down\n",
       "1250  2005 -0.298  0.130 -0.955  0.043  0.422  1.38254 -0.489      Down\n",
       "\n",
       "[1250 rows x 9 columns]"
      ]
     },
     "execution_count": 2,
     "metadata": {},
     "output_type": "execute_result"
    }
   ],
   "source": [
    "df = pd.read_csv(\"Smarket.csv\",index_col=0)\n",
    "df"
   ]
  },
  {
   "cell_type": "code",
   "execution_count": 3,
   "metadata": {},
   "outputs": [
    {
     "name": "stdout",
     "output_type": "stream",
     "text": [
      "<class 'pandas.core.frame.DataFrame'>\n",
      "Int64Index: 1250 entries, 1 to 1250\n",
      "Data columns (total 9 columns):\n",
      " #   Column     Non-Null Count  Dtype  \n",
      "---  ------     --------------  -----  \n",
      " 0   Year       1250 non-null   int64  \n",
      " 1   Lag1       1250 non-null   float64\n",
      " 2   Lag2       1250 non-null   float64\n",
      " 3   Lag3       1250 non-null   float64\n",
      " 4   Lag4       1250 non-null   float64\n",
      " 5   Lag5       1250 non-null   float64\n",
      " 6   Volume     1250 non-null   float64\n",
      " 7   Today      1250 non-null   float64\n",
      " 8   Direction  1250 non-null   object \n",
      "dtypes: float64(7), int64(1), object(1)\n",
      "memory usage: 97.7+ KB\n"
     ]
    }
   ],
   "source": [
    "df.info()"
   ]
  },
  {
   "cell_type": "markdown",
   "metadata": {},
   "source": [
    "Here is a summary of all the variables in the dataframe. We can see that all variables are numerical except for `direction`. There are also no null values in the dataframe as well."
   ]
  },
  {
   "cell_type": "code",
   "execution_count": 4,
   "metadata": {
    "scrolled": true
   },
   "outputs": [
    {
     "data": {
      "text/html": [
       "<div>\n",
       "<style scoped>\n",
       "    .dataframe tbody tr th:only-of-type {\n",
       "        vertical-align: middle;\n",
       "    }\n",
       "\n",
       "    .dataframe tbody tr th {\n",
       "        vertical-align: top;\n",
       "    }\n",
       "\n",
       "    .dataframe thead th {\n",
       "        text-align: right;\n",
       "    }\n",
       "</style>\n",
       "<table border=\"1\" class=\"dataframe\">\n",
       "  <thead>\n",
       "    <tr style=\"text-align: right;\">\n",
       "      <th></th>\n",
       "      <th>Year</th>\n",
       "      <th>Lag1</th>\n",
       "      <th>Lag2</th>\n",
       "      <th>Lag3</th>\n",
       "      <th>Lag4</th>\n",
       "      <th>Lag5</th>\n",
       "      <th>Volume</th>\n",
       "      <th>Today</th>\n",
       "    </tr>\n",
       "  </thead>\n",
       "  <tbody>\n",
       "    <tr>\n",
       "      <th>count</th>\n",
       "      <td>1250.000000</td>\n",
       "      <td>1250.000000</td>\n",
       "      <td>1250.000000</td>\n",
       "      <td>1250.000000</td>\n",
       "      <td>1250.000000</td>\n",
       "      <td>1250.00000</td>\n",
       "      <td>1250.000000</td>\n",
       "      <td>1250.000000</td>\n",
       "    </tr>\n",
       "    <tr>\n",
       "      <th>mean</th>\n",
       "      <td>2003.016000</td>\n",
       "      <td>0.003834</td>\n",
       "      <td>0.003919</td>\n",
       "      <td>0.001716</td>\n",
       "      <td>0.001636</td>\n",
       "      <td>0.00561</td>\n",
       "      <td>1.478305</td>\n",
       "      <td>0.003138</td>\n",
       "    </tr>\n",
       "    <tr>\n",
       "      <th>std</th>\n",
       "      <td>1.409018</td>\n",
       "      <td>1.136299</td>\n",
       "      <td>1.136280</td>\n",
       "      <td>1.138703</td>\n",
       "      <td>1.138774</td>\n",
       "      <td>1.14755</td>\n",
       "      <td>0.360357</td>\n",
       "      <td>1.136334</td>\n",
       "    </tr>\n",
       "    <tr>\n",
       "      <th>min</th>\n",
       "      <td>2001.000000</td>\n",
       "      <td>-4.922000</td>\n",
       "      <td>-4.922000</td>\n",
       "      <td>-4.922000</td>\n",
       "      <td>-4.922000</td>\n",
       "      <td>-4.92200</td>\n",
       "      <td>0.356070</td>\n",
       "      <td>-4.922000</td>\n",
       "    </tr>\n",
       "    <tr>\n",
       "      <th>25%</th>\n",
       "      <td>2002.000000</td>\n",
       "      <td>-0.639500</td>\n",
       "      <td>-0.639500</td>\n",
       "      <td>-0.640000</td>\n",
       "      <td>-0.640000</td>\n",
       "      <td>-0.64000</td>\n",
       "      <td>1.257400</td>\n",
       "      <td>-0.639500</td>\n",
       "    </tr>\n",
       "    <tr>\n",
       "      <th>50%</th>\n",
       "      <td>2003.000000</td>\n",
       "      <td>0.039000</td>\n",
       "      <td>0.039000</td>\n",
       "      <td>0.038500</td>\n",
       "      <td>0.038500</td>\n",
       "      <td>0.03850</td>\n",
       "      <td>1.422950</td>\n",
       "      <td>0.038500</td>\n",
       "    </tr>\n",
       "    <tr>\n",
       "      <th>75%</th>\n",
       "      <td>2004.000000</td>\n",
       "      <td>0.596750</td>\n",
       "      <td>0.596750</td>\n",
       "      <td>0.596750</td>\n",
       "      <td>0.596750</td>\n",
       "      <td>0.59700</td>\n",
       "      <td>1.641675</td>\n",
       "      <td>0.596750</td>\n",
       "    </tr>\n",
       "    <tr>\n",
       "      <th>max</th>\n",
       "      <td>2005.000000</td>\n",
       "      <td>5.733000</td>\n",
       "      <td>5.733000</td>\n",
       "      <td>5.733000</td>\n",
       "      <td>5.733000</td>\n",
       "      <td>5.73300</td>\n",
       "      <td>3.152470</td>\n",
       "      <td>5.733000</td>\n",
       "    </tr>\n",
       "  </tbody>\n",
       "</table>\n",
       "</div>"
      ],
      "text/plain": [
       "              Year         Lag1         Lag2         Lag3         Lag4  \\\n",
       "count  1250.000000  1250.000000  1250.000000  1250.000000  1250.000000   \n",
       "mean   2003.016000     0.003834     0.003919     0.001716     0.001636   \n",
       "std       1.409018     1.136299     1.136280     1.138703     1.138774   \n",
       "min    2001.000000    -4.922000    -4.922000    -4.922000    -4.922000   \n",
       "25%    2002.000000    -0.639500    -0.639500    -0.640000    -0.640000   \n",
       "50%    2003.000000     0.039000     0.039000     0.038500     0.038500   \n",
       "75%    2004.000000     0.596750     0.596750     0.596750     0.596750   \n",
       "max    2005.000000     5.733000     5.733000     5.733000     5.733000   \n",
       "\n",
       "             Lag5       Volume        Today  \n",
       "count  1250.00000  1250.000000  1250.000000  \n",
       "mean      0.00561     1.478305     0.003138  \n",
       "std       1.14755     0.360357     1.136334  \n",
       "min      -4.92200     0.356070    -4.922000  \n",
       "25%      -0.64000     1.257400    -0.639500  \n",
       "50%       0.03850     1.422950     0.038500  \n",
       "75%       0.59700     1.641675     0.596750  \n",
       "max       5.73300     3.152470     5.733000  "
      ]
     },
     "execution_count": 4,
     "metadata": {},
     "output_type": "execute_result"
    }
   ],
   "source": [
    "df.describe()"
   ]
  },
  {
   "cell_type": "markdown",
   "metadata": {},
   "source": [
    "Here is a summary table of numerical variables in the dataframe. We can see that the summary statistics of the lags are generally the same. "
   ]
  },
  {
   "cell_type": "code",
   "execution_count": 5,
   "metadata": {},
   "outputs": [
    {
     "data": {
      "text/html": [
       "<div>\n",
       "<style scoped>\n",
       "    .dataframe tbody tr th:only-of-type {\n",
       "        vertical-align: middle;\n",
       "    }\n",
       "\n",
       "    .dataframe tbody tr th {\n",
       "        vertical-align: top;\n",
       "    }\n",
       "\n",
       "    .dataframe thead th {\n",
       "        text-align: right;\n",
       "    }\n",
       "</style>\n",
       "<table border=\"1\" class=\"dataframe\">\n",
       "  <thead>\n",
       "    <tr style=\"text-align: right;\">\n",
       "      <th></th>\n",
       "      <th>Year</th>\n",
       "      <th>Lag1</th>\n",
       "      <th>Lag2</th>\n",
       "      <th>Lag3</th>\n",
       "      <th>Lag4</th>\n",
       "      <th>Lag5</th>\n",
       "      <th>Volume</th>\n",
       "      <th>Today</th>\n",
       "    </tr>\n",
       "  </thead>\n",
       "  <tbody>\n",
       "    <tr>\n",
       "      <th>Year</th>\n",
       "      <td>1.000000</td>\n",
       "      <td>0.029700</td>\n",
       "      <td>0.030596</td>\n",
       "      <td>0.033195</td>\n",
       "      <td>0.035689</td>\n",
       "      <td>0.029788</td>\n",
       "      <td>0.539006</td>\n",
       "      <td>0.030095</td>\n",
       "    </tr>\n",
       "    <tr>\n",
       "      <th>Lag1</th>\n",
       "      <td>0.029700</td>\n",
       "      <td>1.000000</td>\n",
       "      <td>-0.026294</td>\n",
       "      <td>-0.010803</td>\n",
       "      <td>-0.002986</td>\n",
       "      <td>-0.005675</td>\n",
       "      <td>0.040910</td>\n",
       "      <td>-0.026155</td>\n",
       "    </tr>\n",
       "    <tr>\n",
       "      <th>Lag2</th>\n",
       "      <td>0.030596</td>\n",
       "      <td>-0.026294</td>\n",
       "      <td>1.000000</td>\n",
       "      <td>-0.025897</td>\n",
       "      <td>-0.010854</td>\n",
       "      <td>-0.003558</td>\n",
       "      <td>-0.043383</td>\n",
       "      <td>-0.010250</td>\n",
       "    </tr>\n",
       "    <tr>\n",
       "      <th>Lag3</th>\n",
       "      <td>0.033195</td>\n",
       "      <td>-0.010803</td>\n",
       "      <td>-0.025897</td>\n",
       "      <td>1.000000</td>\n",
       "      <td>-0.024051</td>\n",
       "      <td>-0.018808</td>\n",
       "      <td>-0.041824</td>\n",
       "      <td>-0.002448</td>\n",
       "    </tr>\n",
       "    <tr>\n",
       "      <th>Lag4</th>\n",
       "      <td>0.035689</td>\n",
       "      <td>-0.002986</td>\n",
       "      <td>-0.010854</td>\n",
       "      <td>-0.024051</td>\n",
       "      <td>1.000000</td>\n",
       "      <td>-0.027084</td>\n",
       "      <td>-0.048414</td>\n",
       "      <td>-0.006900</td>\n",
       "    </tr>\n",
       "    <tr>\n",
       "      <th>Lag5</th>\n",
       "      <td>0.029788</td>\n",
       "      <td>-0.005675</td>\n",
       "      <td>-0.003558</td>\n",
       "      <td>-0.018808</td>\n",
       "      <td>-0.027084</td>\n",
       "      <td>1.000000</td>\n",
       "      <td>-0.022002</td>\n",
       "      <td>-0.034860</td>\n",
       "    </tr>\n",
       "    <tr>\n",
       "      <th>Volume</th>\n",
       "      <td>0.539006</td>\n",
       "      <td>0.040910</td>\n",
       "      <td>-0.043383</td>\n",
       "      <td>-0.041824</td>\n",
       "      <td>-0.048414</td>\n",
       "      <td>-0.022002</td>\n",
       "      <td>1.000000</td>\n",
       "      <td>0.014592</td>\n",
       "    </tr>\n",
       "    <tr>\n",
       "      <th>Today</th>\n",
       "      <td>0.030095</td>\n",
       "      <td>-0.026155</td>\n",
       "      <td>-0.010250</td>\n",
       "      <td>-0.002448</td>\n",
       "      <td>-0.006900</td>\n",
       "      <td>-0.034860</td>\n",
       "      <td>0.014592</td>\n",
       "      <td>1.000000</td>\n",
       "    </tr>\n",
       "  </tbody>\n",
       "</table>\n",
       "</div>"
      ],
      "text/plain": [
       "            Year      Lag1      Lag2      Lag3      Lag4      Lag5    Volume  \\\n",
       "Year    1.000000  0.029700  0.030596  0.033195  0.035689  0.029788  0.539006   \n",
       "Lag1    0.029700  1.000000 -0.026294 -0.010803 -0.002986 -0.005675  0.040910   \n",
       "Lag2    0.030596 -0.026294  1.000000 -0.025897 -0.010854 -0.003558 -0.043383   \n",
       "Lag3    0.033195 -0.010803 -0.025897  1.000000 -0.024051 -0.018808 -0.041824   \n",
       "Lag4    0.035689 -0.002986 -0.010854 -0.024051  1.000000 -0.027084 -0.048414   \n",
       "Lag5    0.029788 -0.005675 -0.003558 -0.018808 -0.027084  1.000000 -0.022002   \n",
       "Volume  0.539006  0.040910 -0.043383 -0.041824 -0.048414 -0.022002  1.000000   \n",
       "Today   0.030095 -0.026155 -0.010250 -0.002448 -0.006900 -0.034860  0.014592   \n",
       "\n",
       "           Today  \n",
       "Year    0.030095  \n",
       "Lag1   -0.026155  \n",
       "Lag2   -0.010250  \n",
       "Lag3   -0.002448  \n",
       "Lag4   -0.006900  \n",
       "Lag5   -0.034860  \n",
       "Volume  0.014592  \n",
       "Today   1.000000  "
      ]
     },
     "execution_count": 5,
     "metadata": {},
     "output_type": "execute_result"
    }
   ],
   "source": [
    "df.corr()"
   ]
  },
  {
   "cell_type": "markdown",
   "metadata": {},
   "source": [
    "Here is the correlation matrix between all the numerical variables, `Direction` is dropped because it is not numerical. From the matrix, we can see that the correlation of `Volume` and `Year` has a positive correlation of 0.53 while others (between lags) don't seem to have a substantial correlation. We will examine the relationship between `Volume` and `Year` next. "
   ]
  },
  {
   "cell_type": "code",
   "execution_count": 6,
   "metadata": {},
   "outputs": [
    {
     "name": "stderr",
     "output_type": "stream",
     "text": [
      "/opt/anaconda3/lib/python3.8/site-packages/seaborn/_decorators.py:36: FutureWarning: Pass the following variables as keyword args: x, y. From version 0.12, the only valid positional argument will be `data`, and passing other arguments without an explicit keyword will result in an error or misinterpretation.\n",
      "  warnings.warn(\n"
     ]
    },
    {
     "data": {
      "text/plain": [
       "<matplotlib.axes._subplots.AxesSubplot at 0x7fe64f112280>"
      ]
     },
     "execution_count": 6,
     "metadata": {},
     "output_type": "execute_result"
    },
    {
     "data": {
      "image/png": "[encoded data removed]",
      "text/plain": [
       "<Figure size 432x288 with 1 Axes>"
      ]
     },
     "metadata": {},
     "output_type": "display_data"
    }
   ],
   "source": [
    "sns.barplot(df.Year, df.Volume)"
   ]
  },
  {
   "cell_type": "markdown",
   "metadata": {},
   "source": [
    "From this barplot, we can see that as `Year` increases, `Volume` also increases over time. "
   ]
  },
  {
   "cell_type": "code",
   "execution_count": 7,
   "metadata": {},
   "outputs": [
    {
     "name": "stderr",
     "output_type": "stream",
     "text": [
      "/opt/anaconda3/lib/python3.8/site-packages/seaborn/_decorators.py:36: FutureWarning: Pass the following variables as keyword args: x, y. From version 0.12, the only valid positional argument will be `data`, and passing other arguments without an explicit keyword will result in an error or misinterpretation.\n",
      "  warnings.warn(\n"
     ]
    },
    {
     "data": {
      "text/plain": [
       "<matplotlib.axes._subplots.AxesSubplot at 0x7fe653907280>"
      ]
     },
     "execution_count": 7,
     "metadata": {},
     "output_type": "execute_result"
    },
    {
     "data": {
      "image/png": "[encoded data removed]",
      "text/plain": [
       "<Figure size 432x288 with 1 Axes>"
      ]
     },
     "metadata": {},
     "output_type": "display_data"
    }
   ],
   "source": [
    "sns.scatterplot(df.index, df.Volume)"
   ]
  },
  {
   "cell_type": "markdown",
   "metadata": {},
   "source": [
    "Here is a scatterplot of `Volume` over `index`. We can see that the volume is mainly scattered around volume 1.0 to 2.5."
   ]
  },
  {
   "cell_type": "markdown",
   "metadata": {},
   "source": [
    "## 4.7.2 Logistic Regression"
   ]
  },
  {
   "cell_type": "code",
   "execution_count": 8,
   "metadata": {},
   "outputs": [
    {
     "name": "stdout",
     "output_type": "stream",
     "text": [
      "[[-0.07307339 -0.04230074  0.01108552  0.00935968  0.01031339  0.13544567]]\n",
      "[-0.12600781]\n"
     ]
    }
   ],
   "source": [
    "features = ['Lag1', 'Lag2', 'Lag3', 'Lag4', 'Lag5', 'Volume']\n",
    "response = 'Direction'\n",
    "\n",
    "X = df[features]\n",
    "y = df[response]\n",
    "\n",
    "logistic_reg = LogisticRegression(penalty='none').fit(X,y)\n",
    "print(logistic_reg.coef_)\n",
    "print(logistic_reg.intercept_)"
   ]
  },
  {
   "cell_type": "markdown",
   "metadata": {},
   "source": [
    "Here we fit the logistic regression model that predicts `direction` based on variables `Lag1` to `Lag5` and `Volume`. `Lag1` and `Lag2` have negative coefficients while others have positive coefficients. "
   ]
  },
  {
   "cell_type": "code",
   "execution_count": 9,
   "metadata": {},
   "outputs": [
    {
     "name": "stdout",
     "output_type": "stream",
     "text": [
      "[0.50708369 0.48146717 0.48113874 0.51522232 0.51078106 0.50695658\n",
      " 0.49265099 0.5092293  0.51761327 0.48883779]\n",
      "['Up' 'Down' 'Down' 'Up' 'Up' 'Up' 'Down' 'Up' 'Up' 'Down']\n"
     ]
    }
   ],
   "source": [
    "print(logistic_reg.predict_proba(X)[0:10, 1])\n",
    "y_pred = logistic_reg.predict(X)\n",
    "print(y_pred[0:10])"
   ]
  },
  {
   "cell_type": "markdown",
   "metadata": {},
   "source": [
    "Here are the first ten probabilities for the predictions based on the model and the associated response for the dependent variable. "
   ]
  },
  {
   "cell_type": "code",
   "execution_count": 10,
   "metadata": {},
   "outputs": [
    {
     "data": {
      "text/html": [
       "<div>\n",
       "<style scoped>\n",
       "    .dataframe tbody tr th:only-of-type {\n",
       "        vertical-align: middle;\n",
       "    }\n",
       "\n",
       "    .dataframe tbody tr th {\n",
       "        vertical-align: top;\n",
       "    }\n",
       "\n",
       "    .dataframe thead th {\n",
       "        text-align: right;\n",
       "    }\n",
       "</style>\n",
       "<table border=\"1\" class=\"dataframe\">\n",
       "  <thead>\n",
       "    <tr style=\"text-align: right;\">\n",
       "      <th></th>\n",
       "      <th>Down</th>\n",
       "      <th>Up</th>\n",
       "    </tr>\n",
       "  </thead>\n",
       "  <tbody>\n",
       "    <tr>\n",
       "      <th>Down</th>\n",
       "      <td>145</td>\n",
       "      <td>457</td>\n",
       "    </tr>\n",
       "    <tr>\n",
       "      <th>Up</th>\n",
       "      <td>141</td>\n",
       "      <td>507</td>\n",
       "    </tr>\n",
       "  </tbody>\n",
       "</table>\n",
       "</div>"
      ],
      "text/plain": [
       "      Down   Up\n",
       "Down   145  457\n",
       "Up     141  507"
      ]
     },
     "execution_count": 10,
     "metadata": {},
     "output_type": "execute_result"
    }
   ],
   "source": [
    "cfm = confusion_matrix(y, y_pred)\n",
    "tn, fp, fn, tp = cfm.ravel()\n",
    "cfm\n",
    "\n",
    "df_cfm = pd.DataFrame(cfm)\n",
    "df_cfm.rename(columns = {0:'Down', 1:'Up'}, inplace = True)\n",
    "df_cfm.rename(index = {0: \"Down\", 1:\"Up\"}, inplace = True)\n",
    "\n",
    "df_cfm"
   ]
  },
  {
   "cell_type": "markdown",
   "metadata": {},
   "source": [
    "Here is the confusion matrix that gives the true positives, true negatives, false positives, false negatives calculated by our model. "
   ]
  },
  {
   "cell_type": "code",
   "execution_count": 11,
   "metadata": {},
   "outputs": [
    {
     "data": {
      "text/plain": [
       "0.5216"
      ]
     },
     "execution_count": 11,
     "metadata": {},
     "output_type": "execute_result"
    }
   ],
   "source": [
    "acc = (tp+tn)/(tp+fn+tn+fp)\n",
    "acc"
   ]
  },
  {
   "cell_type": "markdown",
   "metadata": {},
   "source": [
    "Here is the percentage 52.16% that classifies the correct prediction of the logistic regression model."
   ]
  },
  {
   "cell_type": "code",
   "execution_count": 12,
   "metadata": {},
   "outputs": [
    {
     "name": "stdout",
     "output_type": "stream",
     "text": [
      "Training dataset shape:  (998, 9)\n",
      "Test dataset shape:  (252, 9)\n"
     ]
    }
   ],
   "source": [
    "df_train = df.loc[df.Year < 2005]\n",
    "df_test = df.loc[df.Year == 2005]\n",
    "print(\"Training dataset shape: \", df_train.shape)\n",
    "print(\"Test dataset shape: \", df_test.shape)"
   ]
  },
  {
   "cell_type": "markdown",
   "metadata": {},
   "source": [
    "Here we split the data into training and test sets based on whether the year is less than 2005 and exactly 2005. We can see that the training dataset has 998 observations while the test dataset has 252 observations."
   ]
  },
  {
   "cell_type": "code",
   "execution_count": 13,
   "metadata": {},
   "outputs": [],
   "source": [
    "X_train = df_train[features]\n",
    "y_train = df_train[response]\n",
    "\n",
    "logistic_reg2 = LogisticRegression(penalty='none').fit(X_train, y_train)"
   ]
  },
  {
   "cell_type": "markdown",
   "metadata": {},
   "source": [
    "Here we fit the training data into a logistic regression model."
   ]
  },
  {
   "cell_type": "code",
   "execution_count": 14,
   "metadata": {},
   "outputs": [],
   "source": [
    "X_test = df_test[features]\n",
    "y_test = df_test[response]\n",
    "\n",
    "y_pred = logistic_reg2.predict(X_test)"
   ]
  },
  {
   "cell_type": "markdown",
   "metadata": {},
   "source": [
    "We use the training logistic regression model to predict `Direction` on the test set. "
   ]
  },
  {
   "cell_type": "code",
   "execution_count": 15,
   "metadata": {},
   "outputs": [
    {
     "name": "stdout",
     "output_type": "stream",
     "text": [
      "      Down  Up\n",
      "Down    77  34\n",
      "Up      97  44\n"
     ]
    },
    {
     "data": {
      "text/plain": [
       "0.4801587301587302"
      ]
     },
     "execution_count": 15,
     "metadata": {},
     "output_type": "execute_result"
    }
   ],
   "source": [
    "cfm = confusion_matrix(y_test, y_pred)\n",
    "tn, fp, fn, tp = cfm.ravel()\n",
    "cfm\n",
    "\n",
    "df_cfm = pd.DataFrame(cfm)\n",
    "df_cfm.rename(columns = {0:'Down', 1:'Up'}, inplace = True)\n",
    "df_cfm.rename(index = {0:\"Down\", 1:\"Up\"}, inplace = True)\n",
    "\n",
    "print(df_cfm)\n",
    "\n",
    "acc = (tp+tn)/(tp+fn+tn+fp)\n",
    "acc"
   ]
  },
  {
   "cell_type": "markdown",
   "metadata": {},
   "source": [
    "Here is the percentage 48.02% that classifies the correct prediction of the logistic regression model. We can see that the percentage went down compared to the previous model which we have not splitted the data."
   ]
  },
  {
   "cell_type": "code",
   "execution_count": 16,
   "metadata": {},
   "outputs": [],
   "source": [
    "features = ['Lag1', 'Lag2']\n",
    "X_train = df_train[features]\n",
    "y_train = df_train[response]\n",
    "\n",
    "logistic_reg = LogisticRegression(penalty='none') \n",
    "logistic_reg.fit(X_train, y_train)\n",
    "\n",
    "X_test = df_test[features]\n",
    "y_test = df_test[response]\n",
    "y_pred = logistic_reg.predict(X_test)\n"
   ]
  },
  {
   "cell_type": "markdown",
   "metadata": {},
   "source": [
    "Due to the decrease in accuracy in the previous model, we suspect that it is due to the insignificant p-values computed in the model. Therefore, we only choose two variables: `Lag1` and `Lag2` and rerun the logistic regression model to see if there is any improvement. "
   ]
  },
  {
   "cell_type": "code",
   "execution_count": 17,
   "metadata": {},
   "outputs": [
    {
     "name": "stdout",
     "output_type": "stream",
     "text": [
      "      Down   Up\n",
      "Down    35   76\n",
      "Up      35  106\n"
     ]
    },
    {
     "data": {
      "text/plain": [
       "0.5595238095238095"
      ]
     },
     "execution_count": 17,
     "metadata": {},
     "output_type": "execute_result"
    }
   ],
   "source": [
    "cfm = confusion_matrix(y_test, y_pred)\n",
    "tn, fp, fn, tp = cfm.ravel()\n",
    "cfm\n",
    "\n",
    "df_cfm = pd.DataFrame(cfm)\n",
    "df_cfm.rename(columns = {0:'Down', 1:'Up'}, inplace = True)\n",
    "df_cfm.rename(index = {0:\"Down\", 1:\"Up\"}, inplace = True)\n",
    "\n",
    "print(df_cfm)\n",
    "\n",
    "\n",
    "acc = (tp+tn)/(tp+fn+tn+fp)\n",
    "acc\n"
   ]
  },
  {
   "cell_type": "markdown",
   "metadata": {},
   "source": [
    "Here is the percentage 55.95% that classifies the correct prediction of the newest logistic regression model. We can see that the percentage went up compared to the last model and is a better prediction among all three models we ran. "
   ]
  },
  {
   "cell_type": "code",
   "execution_count": 18,
   "metadata": {},
   "outputs": [
    {
     "data": {
      "text/plain": [
       "0.5824175824175825"
      ]
     },
     "execution_count": 18,
     "metadata": {},
     "output_type": "execute_result"
    }
   ],
   "source": [
    "acc_up = tp/(tp+fp)\n",
    "acc_up"
   ]
  },
  {
   "cell_type": "markdown",
   "metadata": {},
   "source": [
    "Here we calculated the accuracy of the prediction when `Direction` is up and found that the accuracy is 58.24% which is better than the accuracy of the entire model. Therefore, we can predict more accurately when the market shows an upward trend and we can utilize this fact when making predictions."
   ]
  },
  {
   "cell_type": "code",
   "execution_count": 19,
   "metadata": {},
   "outputs": [
    {
     "data": {
      "text/plain": [
       "array([0.47914604, 0.49611109])"
      ]
     },
     "execution_count": 19,
     "metadata": {},
     "output_type": "execute_result"
    }
   ],
   "source": [
    "data = {'Lag1':[1.2, 1.5],'Lag2':[1.1, -0.8]}\n",
    "df_predict = pd.DataFrame(data)\n",
    "\n",
    "X_test = df_predict[features]\n",
    "logistic_reg.predict_proba(X_test)[0:,1]"
   ]
  },
  {
   "cell_type": "markdown",
   "metadata": {},
   "source": [
    "Here we predicted the `Direction` with particular values of `Lag1` and `Lag2`. We can see that using first combination we have a predicted value of 0.4791, with second combination we have a predicted value of 0.4961"
   ]
  },
  {
   "cell_type": "markdown",
   "metadata": {},
   "source": [
    "## 4.7.3 Linear Discriminant Analysis"
   ]
  },
  {
   "cell_type": "code",
   "execution_count": 20,
   "metadata": {},
   "outputs": [
    {
     "data": {
      "text/plain": [
       "array([0.49198397, 0.50801603])"
      ]
     },
     "execution_count": 20,
     "metadata": {},
     "output_type": "execute_result"
    }
   ],
   "source": [
    "features = ['Lag1', 'Lag2']\n",
    "X_train = df_train[features]\n",
    "y_train = df_train[response]\n",
    "\n",
    "lda_model = LDA()\n",
    "lda_model.fit(X_train, y_train)\n",
    "\n",
    "lda_model.priors_"
   ]
  },
  {
   "cell_type": "markdown",
   "metadata": {},
   "source": [
    "Here we fitted a LDA model using the training dataset and calculated that the prior probabilities of groups are 0.492 and 0.508. This means that before fitting the model, we observe 49.2% of observations where the `Direction` is down. "
   ]
  },
  {
   "cell_type": "code",
   "execution_count": 21,
   "metadata": {},
   "outputs": [
    {
     "data": {
      "text/plain": [
       "array([[ 0.04279022,  0.03389409],\n",
       "       [-0.03954635, -0.03132544]])"
      ]
     },
     "execution_count": 21,
     "metadata": {},
     "output_type": "execute_result"
    }
   ],
   "source": [
    "lda_model.means_"
   ]
  },
  {
   "cell_type": "markdown",
   "metadata": {},
   "source": [
    "Here is the output of group means for the LDA model. We can interpret this as the average prediction of `Direction` based on the two independent variables."
   ]
  },
  {
   "cell_type": "code",
   "execution_count": 22,
   "metadata": {},
   "outputs": [
    {
     "data": {
      "text/plain": [
       "array([[-0.64201904],\n",
       "       [-0.51352928]])"
      ]
     },
     "execution_count": 22,
     "metadata": {},
     "output_type": "execute_result"
    }
   ],
   "source": [
    "lda_model.scalings_"
   ]
  },
  {
   "cell_type": "markdown",
   "metadata": {},
   "source": [
    "Here are the coefficients for `Lag1` and `Lag2`. We can see that the coefficient for `Lag1` is -0.642 and for `Lag2` is -0.514."
   ]
  },
  {
   "cell_type": "code",
   "execution_count": 23,
   "metadata": {},
   "outputs": [
    {
     "name": "stdout",
     "output_type": "stream",
     "text": [
      "      Down   Up\n",
      "Down    35   76\n",
      "Up      35  106\n"
     ]
    },
    {
     "data": {
      "text/plain": [
       "0.5595238095238095"
      ]
     },
     "execution_count": 23,
     "metadata": {},
     "output_type": "execute_result"
    }
   ],
   "source": [
    "X_test = df_test[features]\n",
    "y_test = df_test[response]\n",
    "y_pred = lda_model.predict(X_test)\n",
    "\n",
    "cfm = confusion_matrix(y_test, y_pred)\n",
    "tn, fp, fn, tp = cfm.ravel()\n",
    "cfm\n",
    "\n",
    "df_cfm = pd.DataFrame(cfm)\n",
    "df_cfm.rename(columns = {0:'Down', 1:'Up'}, inplace = True)\n",
    "df_cfm.rename(index = {0:\"Down\", 1:\"Up\"}, inplace = True)\n",
    "\n",
    "print(df_cfm)\n",
    "\n",
    "acc = (tp+tn)/(tp+fn+tn+fp)\n",
    "acc\n"
   ]
  },
  {
   "cell_type": "markdown",
   "metadata": {},
   "source": [
    "Here is the percentage 55.95% that classifies the correct prediction of the LDA model. We can see that the percentage is identical to the last logistic regression model computed. "
   ]
  },
  {
   "cell_type": "code",
   "execution_count": 24,
   "metadata": {},
   "outputs": [
    {
     "data": {
      "text/plain": [
       "70"
      ]
     },
     "execution_count": 24,
     "metadata": {},
     "output_type": "execute_result"
    }
   ],
   "source": [
    "posterior = pd.DataFrame(lda_model.predict_proba(X_test), columns=['Down','Up'])\n",
    "\n",
    "sum(posterior['Down']>0.5)"
   ]
  },
  {
   "cell_type": "markdown",
   "metadata": {},
   "source": [
    "If we put a 0.5 threshold to the posterior probabilities, we see that there are 70 predictions that has a threshold greater than 0.5."
   ]
  },
  {
   "cell_type": "code",
   "execution_count": 25,
   "metadata": {},
   "outputs": [
    {
     "name": "stdout",
     "output_type": "stream",
     "text": [
      "        Down        Up\n",
      "0   0.490179  0.509821\n",
      "1   0.479218  0.520782\n",
      "2   0.466818  0.533182\n",
      "3   0.474001  0.525999\n",
      "4   0.492788  0.507212\n",
      "5   0.493856  0.506144\n",
      "6   0.495102  0.504898\n",
      "7   0.487286  0.512714\n",
      "8   0.490701  0.509299\n",
      "9   0.484403  0.515597\n",
      "10  0.490696  0.509304\n",
      "11  0.511999  0.488001\n",
      "12  0.489515  0.510485\n",
      "13  0.470676  0.529324\n",
      "14  0.474459  0.525541\n",
      "15  0.479958  0.520042\n",
      "16  0.493578  0.506422\n",
      "17  0.503089  0.496911\n",
      "18  0.497881  0.502119\n",
      "19  0.488633  0.511367\n",
      "['Up' 'Up' 'Up' 'Up' 'Up' 'Up' 'Up' 'Up' 'Up' 'Up' 'Up' 'Down' 'Up' 'Up'\n",
      " 'Up' 'Up' 'Up' 'Down' 'Up' 'Up']\n"
     ]
    }
   ],
   "source": [
    "print(posterior.iloc[:20])\n",
    "print(y_pred[:20])"
   ]
  },
  {
   "cell_type": "markdown",
   "metadata": {},
   "source": [
    "Here are the the first 20 observations of the posterior and it's associated prediction results."
   ]
  },
  {
   "cell_type": "code",
   "execution_count": 26,
   "metadata": {},
   "outputs": [
    {
     "data": {
      "text/plain": [
       "0"
      ]
     },
     "execution_count": 26,
     "metadata": {},
     "output_type": "execute_result"
    }
   ],
   "source": [
    "sum(posterior['Down']>0.9)"
   ]
  },
  {
   "cell_type": "markdown",
   "metadata": {},
   "source": [
    "If we put a 0.9 threshold to the posterior probabilities, we see that there are 0 predictions that has a threshold greater than 0.9."
   ]
  },
  {
   "cell_type": "markdown",
   "metadata": {},
   "source": [
    "## 4.7.4 Quadratic Discriminant Analysis "
   ]
  },
  {
   "cell_type": "code",
   "execution_count": 27,
   "metadata": {},
   "outputs": [
    {
     "data": {
      "text/plain": [
       "array([0.49198397, 0.50801603])"
      ]
     },
     "execution_count": 27,
     "metadata": {},
     "output_type": "execute_result"
    }
   ],
   "source": [
    "features = ['Lag1', 'Lag2']\n",
    "X_train = df_train[features]\n",
    "y_train = df_train[response]\n",
    "\n",
    "qda_model = QDA()\n",
    "qda_model.fit(X_train, y_train)\n",
    "\n",
    "qda_model.priors_"
   ]
  },
  {
   "cell_type": "markdown",
   "metadata": {},
   "source": [
    "Here we fitted a QDA model using the training dataset and calculated that the prior probabilities of groups are 0.492 and 0.508. This means that before fitting the model, we observe 49.2% of observations where the Direction is down."
   ]
  },
  {
   "cell_type": "code",
   "execution_count": 28,
   "metadata": {},
   "outputs": [
    {
     "data": {
      "text/plain": [
       "array([[ 0.04279022,  0.03389409],\n",
       "       [-0.03954635, -0.03132544]])"
      ]
     },
     "execution_count": 28,
     "metadata": {},
     "output_type": "execute_result"
    }
   ],
   "source": [
    "qda_model.means_"
   ]
  },
  {
   "cell_type": "markdown",
   "metadata": {},
   "source": [
    "Here is the output of group means for the QDA model. We can interpret this as the average prediction of Direction based on the two independent variables."
   ]
  },
  {
   "cell_type": "code",
   "execution_count": 29,
   "metadata": {},
   "outputs": [
    {
     "name": "stdout",
     "output_type": "stream",
     "text": [
      "      Down   Up\n",
      "Down    30   81\n",
      "Up      20  121\n"
     ]
    },
    {
     "data": {
      "text/plain": [
       "0.5992063492063492"
      ]
     },
     "execution_count": 29,
     "metadata": {},
     "output_type": "execute_result"
    }
   ],
   "source": [
    "X_test = df_test[features]\n",
    "y_test = df_test[response]\n",
    "y_pred = qda_model.predict(X_test)\n",
    "\n",
    "cfm = confusion_matrix(y_test, y_pred)\n",
    "tn, fp, fn, tp = cfm.ravel()\n",
    "cfm\n",
    "\n",
    "df_cfm = pd.DataFrame(cfm)\n",
    "df_cfm.rename(columns = {0:'Down', 1:'Up'}, inplace = True)\n",
    "df_cfm.rename(index = {0:\"Down\", 1:\"Up\"}, inplace = True)\n",
    "\n",
    "print(df_cfm)\n",
    "\n",
    "acc = (tp+tn)/(tp+fn+tn+fp)\n",
    "acc\n"
   ]
  },
  {
   "cell_type": "markdown",
   "metadata": {},
   "source": [
    "Here is the percentage 59.92% that classifies the correct prediction of the QDA model. We can see that the percentage is greater than the logistic regression model and the LDA model computed. This may indicate that this model is a good fit for prediction of the market."
   ]
  },
  {
   "cell_type": "markdown",
   "metadata": {},
   "source": [
    "## 4.7.5 Naive Bayes "
   ]
  },
  {
   "cell_type": "code",
   "execution_count": 30,
   "metadata": {},
   "outputs": [
    {
     "data": {
      "text/plain": [
       "array([0.49198397, 0.50801603])"
      ]
     },
     "execution_count": 30,
     "metadata": {},
     "output_type": "execute_result"
    }
   ],
   "source": [
    "X_train = df_train[features]\n",
    "y_train = df_train[response]\n",
    "\n",
    "gnb_model = GNB()\n",
    "gnb_model.fit(X_train, y_train)\n",
    "\n",
    "gnb_model.class_prior_"
   ]
  },
  {
   "cell_type": "markdown",
   "metadata": {},
   "source": [
    "Here we fitted a Naive Bayes model using the training dataset and calculated that the prior probabilities of groups are 0.492 and 0.508. This means that before fitting the model, we observe 49.2% of observations where the Direction is `Down`."
   ]
  },
  {
   "cell_type": "code",
   "execution_count": 31,
   "metadata": {},
   "outputs": [
    {
     "data": {
      "text/plain": [
       "array([[ 0.04279022,  0.03389409],\n",
       "       [-0.03954635, -0.03132544]])"
      ]
     },
     "execution_count": 31,
     "metadata": {},
     "output_type": "execute_result"
    }
   ],
   "source": [
    "gnb_model.theta_"
   ]
  },
  {
   "cell_type": "markdown",
   "metadata": {},
   "source": [
    "Here is the estimated mean for every independent variable based on each class. We can interpret [0,0] entry of the matrix as: the estimated mean for `lag1` when `direction` is `Down` is 0.043."
   ]
  },
  {
   "cell_type": "code",
   "execution_count": 32,
   "metadata": {},
   "outputs": [
    {
     "name": "stdout",
     "output_type": "stream",
     "text": [
      "      Down   Up\n",
      "Down    29   82\n",
      "Up      20  121\n"
     ]
    },
    {
     "data": {
      "text/plain": [
       "0.5952380952380952"
      ]
     },
     "execution_count": 32,
     "metadata": {},
     "output_type": "execute_result"
    }
   ],
   "source": [
    "X_test = df_test[features]\n",
    "y_test = df_test[response]\n",
    "y_pred = gnb_model.predict(X_test)\n",
    "\n",
    "cfm = confusion_matrix(y_test, y_pred)\n",
    "tn, fp, fn, tp = cfm.ravel()\n",
    "cfm\n",
    "\n",
    "df_cfm = pd.DataFrame(cfm)\n",
    "df_cfm.rename(columns = {0:'Down', 1:'Up'}, inplace = True)\n",
    "df_cfm.rename(index = {0:\"Down\", 1:\"Up\"}, inplace = True)\n",
    "\n",
    "print(df_cfm)\n",
    "\n",
    "acc = (tp+tn)/(tp+fn+tn+fp)\n",
    "acc\n"
   ]
  },
  {
   "cell_type": "markdown",
   "metadata": {},
   "source": [
    "Here is the percentage 59.52% that classifies the correct prediction of the QDA model. We can see that the percentage is greater than the logistic regression model and the LDA model computed but a little less than the QDA model. This may indicate that this model is also a good fit for prediction of the market."
   ]
  },
  {
   "cell_type": "code",
   "execution_count": 33,
   "metadata": {},
   "outputs": [
    {
     "data": {
      "text/html": [
       "<div>\n",
       "<style scoped>\n",
       "    .dataframe tbody tr th:only-of-type {\n",
       "        vertical-align: middle;\n",
       "    }\n",
       "\n",
       "    .dataframe tbody tr th {\n",
       "        vertical-align: top;\n",
       "    }\n",
       "\n",
       "    .dataframe thead th {\n",
       "        text-align: right;\n",
       "    }\n",
       "</style>\n",
       "<table border=\"1\" class=\"dataframe\">\n",
       "  <thead>\n",
       "    <tr style=\"text-align: right;\">\n",
       "      <th></th>\n",
       "      <th>Down</th>\n",
       "      <th>Up</th>\n",
       "    </tr>\n",
       "  </thead>\n",
       "  <tbody>\n",
       "    <tr>\n",
       "      <th>0</th>\n",
       "      <td>0.487329</td>\n",
       "      <td>0.512671</td>\n",
       "    </tr>\n",
       "    <tr>\n",
       "      <th>1</th>\n",
       "      <td>0.476236</td>\n",
       "      <td>0.523764</td>\n",
       "    </tr>\n",
       "    <tr>\n",
       "      <th>2</th>\n",
       "      <td>0.465295</td>\n",
       "      <td>0.534705</td>\n",
       "    </tr>\n",
       "    <tr>\n",
       "      <th>3</th>\n",
       "      <td>0.474845</td>\n",
       "      <td>0.525155</td>\n",
       "    </tr>\n",
       "    <tr>\n",
       "      <th>4</th>\n",
       "      <td>0.490206</td>\n",
       "      <td>0.509794</td>\n",
       "    </tr>\n",
       "  </tbody>\n",
       "</table>\n",
       "</div>"
      ],
      "text/plain": [
       "       Down        Up\n",
       "0  0.487329  0.512671\n",
       "1  0.476236  0.523764\n",
       "2  0.465295  0.534705\n",
       "3  0.474845  0.525155\n",
       "4  0.490206  0.509794"
      ]
     },
     "execution_count": 33,
     "metadata": {},
     "output_type": "execute_result"
    }
   ],
   "source": [
    "posterior = pd.DataFrame(gnb_model.predict_proba(X_test), columns=['Down','Up'])\n",
    "posterior.iloc[0:5]"
   ]
  },
  {
   "cell_type": "markdown",
   "metadata": {},
   "source": [
    "Here are the probability estimates that each observation is classified into `Down` or `Up`."
   ]
  },
  {
   "cell_type": "markdown",
   "metadata": {},
   "source": [
    "## 4.7.6  K-Nearest Neighbors "
   ]
  },
  {
   "cell_type": "code",
   "execution_count": 34,
   "metadata": {},
   "outputs": [
    {
     "name": "stdout",
     "output_type": "stream",
     "text": [
      "      Down  Up\n",
      "Down    43  68\n",
      "Up      58  83\n"
     ]
    },
    {
     "data": {
      "text/plain": [
       "0.5"
      ]
     },
     "execution_count": 34,
     "metadata": {},
     "output_type": "execute_result"
    }
   ],
   "source": [
    "features = ['Lag1', 'Lag2']\n",
    "X_train = df_train[features]\n",
    "y_train = df_train[response]\n",
    "\n",
    "knn_model = KNN(n_neighbors=1)\n",
    "knn_model.fit(X_train, y_train)\n",
    "\n",
    "X_test = df_test[features]\n",
    "y_test = df_test[response]\n",
    "y_pred = knn_model.predict(X_test)\n",
    "\n",
    "cfm = confusion_matrix(y_test, y_pred)\n",
    "tn, fp, fn, tp = cfm.ravel()\n",
    "cfm\n",
    "\n",
    "df_cfm = pd.DataFrame(cfm)\n",
    "df_cfm.rename(columns = {0:'Down', 1:'Up'}, inplace = True)\n",
    "df_cfm.rename(index = {0:\"Down\", 1:\"Up\"}, inplace = True)\n",
    "\n",
    "print(df_cfm)\n",
    "\n",
    "acc = (tp+tn)/(tp+fn+tn+fp)\n",
    "acc\n"
   ]
  },
  {
   "cell_type": "markdown",
   "metadata": {},
   "source": [
    "We fitted a KNN model using K=1. Here is the percentage 50% that classifies the correct prediction of the KNN model. We can see that this is not a very good fit so maybe we can increase the value of K to increase percentage of correct predictions."
   ]
  },
  {
   "cell_type": "code",
   "execution_count": 35,
   "metadata": {},
   "outputs": [
    {
     "name": "stdout",
     "output_type": "stream",
     "text": [
      "      Down  Up\n",
      "Down    48  63\n",
      "Up      55  86\n"
     ]
    },
    {
     "data": {
      "text/plain": [
       "0.5317460317460317"
      ]
     },
     "execution_count": 35,
     "metadata": {},
     "output_type": "execute_result"
    }
   ],
   "source": [
    "features = ['Lag1', 'Lag2']\n",
    "X_train = df_train[features]\n",
    "y_train = df_train[response]\n",
    "\n",
    "knn_model = KNN(n_neighbors=3)\n",
    "knn_model.fit(X_train, y_train)\n",
    "\n",
    "X_test = df_test[features]\n",
    "y_test = df_test[response]\n",
    "y_pred = knn_model.predict(X_test)\n",
    "\n",
    "cfm = confusion_matrix(y_test, y_pred)\n",
    "tn, fp, fn, tp = cfm.ravel()\n",
    "cfm\n",
    "\n",
    "df_cfm = pd.DataFrame(cfm)\n",
    "df_cfm.rename(columns = {0:\"Down\", 1:\"Up\"}, inplace = True)\n",
    "df_cfm.rename(index = {0:\"Down\", 1:\"Up\"}, inplace = True)\n",
    "\n",
    "print(df_cfm)\n",
    "\n",
    "acc = (tp+tn)/(tp+fn+tn+fp)\n",
    "acc\n"
   ]
  },
  {
   "cell_type": "markdown",
   "metadata": {},
   "source": [
    "After using K=3, we find an increase from 0.5 to 0.532 in the percentage of correct predictions using the KNN model. However, we still conclude that QDA model provides the best prediction. "
   ]
  },
  {
   "cell_type": "code",
   "execution_count": 36,
   "metadata": {},
   "outputs": [
    {
     "data": {
      "text/html": [
       "<div>\n",
       "<style scoped>\n",
       "    .dataframe tbody tr th:only-of-type {\n",
       "        vertical-align: middle;\n",
       "    }\n",
       "\n",
       "    .dataframe tbody tr th {\n",
       "        vertical-align: top;\n",
       "    }\n",
       "\n",
       "    .dataframe thead th {\n",
       "        text-align: right;\n",
       "    }\n",
       "</style>\n",
       "<table border=\"1\" class=\"dataframe\">\n",
       "  <thead>\n",
       "    <tr style=\"text-align: right;\">\n",
       "      <th></th>\n",
       "      <th>MOSTYPE</th>\n",
       "      <th>MAANTHUI</th>\n",
       "      <th>MGEMOMV</th>\n",
       "      <th>MGEMLEEF</th>\n",
       "      <th>MOSHOOFD</th>\n",
       "      <th>MGODRK</th>\n",
       "      <th>MGODPR</th>\n",
       "      <th>MGODOV</th>\n",
       "      <th>MGODGE</th>\n",
       "      <th>MRELGE</th>\n",
       "      <th>...</th>\n",
       "      <th>APERSONG</th>\n",
       "      <th>AGEZONG</th>\n",
       "      <th>AWAOREG</th>\n",
       "      <th>ABRAND</th>\n",
       "      <th>AZEILPL</th>\n",
       "      <th>APLEZIER</th>\n",
       "      <th>AFIETS</th>\n",
       "      <th>AINBOED</th>\n",
       "      <th>ABYSTAND</th>\n",
       "      <th>Purchase</th>\n",
       "    </tr>\n",
       "  </thead>\n",
       "  <tbody>\n",
       "    <tr>\n",
       "      <th>1</th>\n",
       "      <td>33</td>\n",
       "      <td>1</td>\n",
       "      <td>3</td>\n",
       "      <td>2</td>\n",
       "      <td>8</td>\n",
       "      <td>0</td>\n",
       "      <td>5</td>\n",
       "      <td>1</td>\n",
       "      <td>3</td>\n",
       "      <td>7</td>\n",
       "      <td>...</td>\n",
       "      <td>0</td>\n",
       "      <td>0</td>\n",
       "      <td>0</td>\n",
       "      <td>1</td>\n",
       "      <td>0</td>\n",
       "      <td>0</td>\n",
       "      <td>0</td>\n",
       "      <td>0</td>\n",
       "      <td>0</td>\n",
       "      <td>No</td>\n",
       "    </tr>\n",
       "    <tr>\n",
       "      <th>2</th>\n",
       "      <td>37</td>\n",
       "      <td>1</td>\n",
       "      <td>2</td>\n",
       "      <td>2</td>\n",
       "      <td>8</td>\n",
       "      <td>1</td>\n",
       "      <td>4</td>\n",
       "      <td>1</td>\n",
       "      <td>4</td>\n",
       "      <td>6</td>\n",
       "      <td>...</td>\n",
       "      <td>0</td>\n",
       "      <td>0</td>\n",
       "      <td>0</td>\n",
       "      <td>1</td>\n",
       "      <td>0</td>\n",
       "      <td>0</td>\n",
       "      <td>0</td>\n",
       "      <td>0</td>\n",
       "      <td>0</td>\n",
       "      <td>No</td>\n",
       "    </tr>\n",
       "    <tr>\n",
       "      <th>3</th>\n",
       "      <td>37</td>\n",
       "      <td>1</td>\n",
       "      <td>2</td>\n",
       "      <td>2</td>\n",
       "      <td>8</td>\n",
       "      <td>0</td>\n",
       "      <td>4</td>\n",
       "      <td>2</td>\n",
       "      <td>4</td>\n",
       "      <td>3</td>\n",
       "      <td>...</td>\n",
       "      <td>0</td>\n",
       "      <td>0</td>\n",
       "      <td>0</td>\n",
       "      <td>1</td>\n",
       "      <td>0</td>\n",
       "      <td>0</td>\n",
       "      <td>0</td>\n",
       "      <td>0</td>\n",
       "      <td>0</td>\n",
       "      <td>No</td>\n",
       "    </tr>\n",
       "    <tr>\n",
       "      <th>4</th>\n",
       "      <td>9</td>\n",
       "      <td>1</td>\n",
       "      <td>3</td>\n",
       "      <td>3</td>\n",
       "      <td>3</td>\n",
       "      <td>2</td>\n",
       "      <td>3</td>\n",
       "      <td>2</td>\n",
       "      <td>4</td>\n",
       "      <td>5</td>\n",
       "      <td>...</td>\n",
       "      <td>0</td>\n",
       "      <td>0</td>\n",
       "      <td>0</td>\n",
       "      <td>1</td>\n",
       "      <td>0</td>\n",
       "      <td>0</td>\n",
       "      <td>0</td>\n",
       "      <td>0</td>\n",
       "      <td>0</td>\n",
       "      <td>No</td>\n",
       "    </tr>\n",
       "    <tr>\n",
       "      <th>5</th>\n",
       "      <td>40</td>\n",
       "      <td>1</td>\n",
       "      <td>4</td>\n",
       "      <td>2</td>\n",
       "      <td>10</td>\n",
       "      <td>1</td>\n",
       "      <td>4</td>\n",
       "      <td>1</td>\n",
       "      <td>4</td>\n",
       "      <td>7</td>\n",
       "      <td>...</td>\n",
       "      <td>0</td>\n",
       "      <td>0</td>\n",
       "      <td>0</td>\n",
       "      <td>1</td>\n",
       "      <td>0</td>\n",
       "      <td>0</td>\n",
       "      <td>0</td>\n",
       "      <td>0</td>\n",
       "      <td>0</td>\n",
       "      <td>No</td>\n",
       "    </tr>\n",
       "    <tr>\n",
       "      <th>...</th>\n",
       "      <td>...</td>\n",
       "      <td>...</td>\n",
       "      <td>...</td>\n",
       "      <td>...</td>\n",
       "      <td>...</td>\n",
       "      <td>...</td>\n",
       "      <td>...</td>\n",
       "      <td>...</td>\n",
       "      <td>...</td>\n",
       "      <td>...</td>\n",
       "      <td>...</td>\n",
       "      <td>...</td>\n",
       "      <td>...</td>\n",
       "      <td>...</td>\n",
       "      <td>...</td>\n",
       "      <td>...</td>\n",
       "      <td>...</td>\n",
       "      <td>...</td>\n",
       "      <td>...</td>\n",
       "      <td>...</td>\n",
       "      <td>...</td>\n",
       "    </tr>\n",
       "    <tr>\n",
       "      <th>5818</th>\n",
       "      <td>36</td>\n",
       "      <td>1</td>\n",
       "      <td>1</td>\n",
       "      <td>2</td>\n",
       "      <td>8</td>\n",
       "      <td>0</td>\n",
       "      <td>6</td>\n",
       "      <td>1</td>\n",
       "      <td>2</td>\n",
       "      <td>1</td>\n",
       "      <td>...</td>\n",
       "      <td>0</td>\n",
       "      <td>0</td>\n",
       "      <td>0</td>\n",
       "      <td>1</td>\n",
       "      <td>0</td>\n",
       "      <td>0</td>\n",
       "      <td>0</td>\n",
       "      <td>0</td>\n",
       "      <td>0</td>\n",
       "      <td>No</td>\n",
       "    </tr>\n",
       "    <tr>\n",
       "      <th>5819</th>\n",
       "      <td>35</td>\n",
       "      <td>1</td>\n",
       "      <td>4</td>\n",
       "      <td>4</td>\n",
       "      <td>8</td>\n",
       "      <td>1</td>\n",
       "      <td>4</td>\n",
       "      <td>1</td>\n",
       "      <td>4</td>\n",
       "      <td>6</td>\n",
       "      <td>...</td>\n",
       "      <td>0</td>\n",
       "      <td>0</td>\n",
       "      <td>0</td>\n",
       "      <td>1</td>\n",
       "      <td>0</td>\n",
       "      <td>0</td>\n",
       "      <td>0</td>\n",
       "      <td>0</td>\n",
       "      <td>0</td>\n",
       "      <td>No</td>\n",
       "    </tr>\n",
       "    <tr>\n",
       "      <th>5820</th>\n",
       "      <td>33</td>\n",
       "      <td>1</td>\n",
       "      <td>3</td>\n",
       "      <td>4</td>\n",
       "      <td>8</td>\n",
       "      <td>0</td>\n",
       "      <td>6</td>\n",
       "      <td>0</td>\n",
       "      <td>3</td>\n",
       "      <td>5</td>\n",
       "      <td>...</td>\n",
       "      <td>0</td>\n",
       "      <td>0</td>\n",
       "      <td>0</td>\n",
       "      <td>1</td>\n",
       "      <td>0</td>\n",
       "      <td>0</td>\n",
       "      <td>0</td>\n",
       "      <td>0</td>\n",
       "      <td>0</td>\n",
       "      <td>Yes</td>\n",
       "    </tr>\n",
       "    <tr>\n",
       "      <th>5821</th>\n",
       "      <td>34</td>\n",
       "      <td>1</td>\n",
       "      <td>3</td>\n",
       "      <td>2</td>\n",
       "      <td>8</td>\n",
       "      <td>0</td>\n",
       "      <td>7</td>\n",
       "      <td>0</td>\n",
       "      <td>2</td>\n",
       "      <td>7</td>\n",
       "      <td>...</td>\n",
       "      <td>0</td>\n",
       "      <td>0</td>\n",
       "      <td>0</td>\n",
       "      <td>0</td>\n",
       "      <td>0</td>\n",
       "      <td>0</td>\n",
       "      <td>0</td>\n",
       "      <td>0</td>\n",
       "      <td>0</td>\n",
       "      <td>No</td>\n",
       "    </tr>\n",
       "    <tr>\n",
       "      <th>5822</th>\n",
       "      <td>33</td>\n",
       "      <td>1</td>\n",
       "      <td>3</td>\n",
       "      <td>3</td>\n",
       "      <td>8</td>\n",
       "      <td>0</td>\n",
       "      <td>6</td>\n",
       "      <td>1</td>\n",
       "      <td>2</td>\n",
       "      <td>7</td>\n",
       "      <td>...</td>\n",
       "      <td>0</td>\n",
       "      <td>0</td>\n",
       "      <td>0</td>\n",
       "      <td>0</td>\n",
       "      <td>0</td>\n",
       "      <td>0</td>\n",
       "      <td>0</td>\n",
       "      <td>0</td>\n",
       "      <td>0</td>\n",
       "      <td>No</td>\n",
       "    </tr>\n",
       "  </tbody>\n",
       "</table>\n",
       "<p>5822 rows × 86 columns</p>\n",
       "</div>"
      ],
      "text/plain": [
       "      MOSTYPE  MAANTHUI  MGEMOMV  MGEMLEEF  MOSHOOFD  MGODRK  MGODPR  MGODOV  \\\n",
       "1          33         1        3         2         8       0       5       1   \n",
       "2          37         1        2         2         8       1       4       1   \n",
       "3          37         1        2         2         8       0       4       2   \n",
       "4           9         1        3         3         3       2       3       2   \n",
       "5          40         1        4         2        10       1       4       1   \n",
       "...       ...       ...      ...       ...       ...     ...     ...     ...   \n",
       "5818       36         1        1         2         8       0       6       1   \n",
       "5819       35         1        4         4         8       1       4       1   \n",
       "5820       33         1        3         4         8       0       6       0   \n",
       "5821       34         1        3         2         8       0       7       0   \n",
       "5822       33         1        3         3         8       0       6       1   \n",
       "\n",
       "      MGODGE  MRELGE  ...  APERSONG  AGEZONG  AWAOREG  ABRAND  AZEILPL  \\\n",
       "1          3       7  ...         0        0        0       1        0   \n",
       "2          4       6  ...         0        0        0       1        0   \n",
       "3          4       3  ...         0        0        0       1        0   \n",
       "4          4       5  ...         0        0        0       1        0   \n",
       "5          4       7  ...         0        0        0       1        0   \n",
       "...      ...     ...  ...       ...      ...      ...     ...      ...   \n",
       "5818       2       1  ...         0        0        0       1        0   \n",
       "5819       4       6  ...         0        0        0       1        0   \n",
       "5820       3       5  ...         0        0        0       1        0   \n",
       "5821       2       7  ...         0        0        0       0        0   \n",
       "5822       2       7  ...         0        0        0       0        0   \n",
       "\n",
       "      APLEZIER  AFIETS  AINBOED  ABYSTAND  Purchase  \n",
       "1            0       0        0         0        No  \n",
       "2            0       0        0         0        No  \n",
       "3            0       0        0         0        No  \n",
       "4            0       0        0         0        No  \n",
       "5            0       0        0         0        No  \n",
       "...        ...     ...      ...       ...       ...  \n",
       "5818         0       0        0         0        No  \n",
       "5819         0       0        0         0        No  \n",
       "5820         0       0        0         0       Yes  \n",
       "5821         0       0        0         0        No  \n",
       "5822         0       0        0         0        No  \n",
       "\n",
       "[5822 rows x 86 columns]"
      ]
     },
     "execution_count": 36,
     "metadata": {},
     "output_type": "execute_result"
    }
   ],
   "source": [
    "df_caravan = pd.read_csv(\"Caravan.csv\", index_col=0)\n",
    "df_caravan"
   ]
  },
  {
   "cell_type": "code",
   "execution_count": 37,
   "metadata": {},
   "outputs": [
    {
     "name": "stdout",
     "output_type": "stream",
     "text": [
      "0.118\n",
      "0.059\n"
     ]
    }
   ],
   "source": [
    "np.random.seed(1)\n",
    "X = scale(df_caravan.iloc[:,0:85].values, axis=0)\n",
    "df_caravan = df_caravan.replace({'Purchase': {'Yes': 1,'No': 0}})\n",
    "Y = np.array(df_caravan['Purchase'])\n",
    "\n",
    "X_test = X[0:1000]\n",
    "y_test = Y[0:1000]\n",
    "X_train = X[1000:]\n",
    "y_train = Y[1000:]\n",
    "\n",
    "\n",
    "knn_model = KNN(n_neighbors=1)\n",
    "knn_model.fit(X_train, y_train)\n",
    "y_pred = knn_model.predict(X_test)\n",
    "\n",
    "print(np.mean(y_test != y_pred))\n",
    "print(np.mean(y_test != 0))\n"
   ]
  },
  {
   "cell_type": "markdown",
   "metadata": {},
   "source": [
    "The first number is the error rate that the model using test data predicts. Second number is the when the prediction is not equal to 0."
   ]
  },
  {
   "cell_type": "code",
   "execution_count": 38,
   "metadata": {},
   "outputs": [
    {
     "name": "stdout",
     "output_type": "stream",
     "text": [
      "      No  Yes\n",
      "No   873   68\n",
      "Yes   50    9\n"
     ]
    },
    {
     "data": {
      "text/plain": [
       "0.11688311688311688"
      ]
     },
     "execution_count": 38,
     "metadata": {},
     "output_type": "execute_result"
    }
   ],
   "source": [
    "cfm = confusion_matrix(y_test, y_pred)\n",
    "tn, fp, fn, tp = cfm.ravel()\n",
    "cfm\n",
    "\n",
    "df_cfm = pd.DataFrame(cfm)\n",
    "df_cfm.rename(columns = {0:'No', 1:'Yes'}, inplace = True)\n",
    "df_cfm.rename(index = {0:\"No\", 1:\"Yes\"}, inplace = True)\n",
    "\n",
    "print(df_cfm)\n",
    "\n",
    "success = tp/(tp+fp)\n",
    "success"
   ]
  },
  {
   "cell_type": "markdown",
   "metadata": {},
   "source": [
    "Here is the percentage 11.69% that classifies the success rate that customers do buy insurance when they are predicted to buy insurance. "
   ]
  },
  {
   "cell_type": "code",
   "execution_count": 39,
   "metadata": {},
   "outputs": [
    {
     "name": "stdout",
     "output_type": "stream",
     "text": [
      "0.074\n",
      "0.059\n",
      "      No  Yes\n",
      "No   921   20\n",
      "Yes   54    5\n"
     ]
    },
    {
     "data": {
      "text/plain": [
       "0.2"
      ]
     },
     "execution_count": 39,
     "metadata": {},
     "output_type": "execute_result"
    }
   ],
   "source": [
    "knn_model = KNN(n_neighbors=3)\n",
    "knn_model.fit(X_train, y_train)\n",
    "y_pred = knn_model.predict(X_test)\n",
    "\n",
    "print(np.mean(y_test != y_pred))\n",
    "print(np.mean(y_test != 0))\n",
    "\n",
    "cfm = confusion_matrix(y_test, y_pred)\n",
    "tn, fp, fn, tp = cfm.ravel()\n",
    "cfm\n",
    "\n",
    "df_cfm = pd.DataFrame(cfm)\n",
    "df_cfm.rename(columns = {0:'No', 1:'Yes'}, inplace = True)\n",
    "df_cfm.rename(index = {0:\"No\", 1:\"Yes\"}, inplace = True)\n",
    "\n",
    "print(df_cfm)\n",
    "\n",
    "success = tp/(tp+fp)\n",
    "success"
   ]
  },
  {
   "cell_type": "markdown",
   "metadata": {},
   "source": [
    "Here is the percentage 20% that classifies the success rate with K=3 that customers do buy insurance when they are predicted to buy insurance."
   ]
  },
  {
   "cell_type": "code",
   "execution_count": 40,
   "metadata": {},
   "outputs": [
    {
     "name": "stdout",
     "output_type": "stream",
     "text": [
      "0.066\n",
      "0.059\n",
      "      No  Yes\n",
      "No   930   11\n",
      "Yes   55    4\n"
     ]
    },
    {
     "data": {
      "text/plain": [
       "0.26666666666666666"
      ]
     },
     "execution_count": 40,
     "metadata": {},
     "output_type": "execute_result"
    }
   ],
   "source": [
    "knn_model = KNN(n_neighbors=5)\n",
    "knn_model.fit(X_train, y_train)\n",
    "y_pred = knn_model.predict(X_test)\n",
    "\n",
    "print(np.mean(y_test != y_pred))\n",
    "print(np.mean(y_test != 0))\n",
    "\n",
    "cfm = confusion_matrix(y_test, y_pred)\n",
    "tn, fp, fn, tp = cfm.ravel()\n",
    "cfm\n",
    "\n",
    "df_cfm = pd.DataFrame(cfm)\n",
    "df_cfm.rename(columns = {0:'No', 1:'Yes'}, inplace = True)\n",
    "df_cfm.rename(index = {0:\"No\", 1:\"Yes\"}, inplace = True)\n",
    "\n",
    "print(df_cfm)\n",
    "\n",
    "success = tp/(tp+fp)\n",
    "success"
   ]
  },
  {
   "cell_type": "markdown",
   "metadata": {},
   "source": [
    "Here is the percentage 26.67% that classifies the success rate with K=5 that customers do buy insurance when they are predicted to buy insurance."
   ]
  },
  {
   "cell_type": "code",
   "execution_count": 41,
   "metadata": {},
   "outputs": [
    {
     "name": "stdout",
     "output_type": "stream",
     "text": [
      "      No  Yes\n",
      "No   934    7\n",
      "Yes   59    0\n"
     ]
    },
    {
     "name": "stderr",
     "output_type": "stream",
     "text": [
      "/opt/anaconda3/lib/python3.8/site-packages/sklearn/linear_model/_logistic.py:763: ConvergenceWarning: lbfgs failed to converge (status=1):\n",
      "STOP: TOTAL NO. of ITERATIONS REACHED LIMIT.\n",
      "\n",
      "Increase the number of iterations (max_iter) or scale the data as shown in:\n",
      "    https://scikit-learn.org/stable/modules/preprocessing.html\n",
      "Please also refer to the documentation for alternative solver options:\n",
      "    https://scikit-learn.org/stable/modules/linear_model.html#logistic-regression\n",
      "  n_iter_i = _check_optimize_result(\n"
     ]
    },
    {
     "data": {
      "text/plain": [
       "0.0"
      ]
     },
     "execution_count": 41,
     "metadata": {},
     "output_type": "execute_result"
    }
   ],
   "source": [
    "logistic_reg = LogisticRegression() \n",
    "logistic_reg.fit(X_train, y_train)\n",
    "y_pred = logistic_reg.predict(X_test)\n",
    "\n",
    "cfm = confusion_matrix(y_test, y_pred)\n",
    "tn, fp, fn, tp = cfm.ravel()\n",
    "cfm\n",
    "\n",
    "df_cfm = pd.DataFrame(cfm)\n",
    "df_cfm.rename(columns = {0:'No', 1:'Yes'}, inplace = True)\n",
    "df_cfm.rename(index = {0:\"No\", 1:\"Yes\"}, inplace = True)\n",
    "\n",
    "print(df_cfm)\n",
    "\n",
    "success = (tp)/(tp+fp)\n",
    "success\n",
    "\n"
   ]
  },
  {
   "cell_type": "markdown",
   "metadata": {},
   "source": [
    "If we use a default probability cutoff of 0.5 for the logistic regression model, we see that the success rate is 0 which is the worst case scenario, indicating that our model prediction is completely wrong."
   ]
  },
  {
   "cell_type": "code",
   "execution_count": 42,
   "metadata": {},
   "outputs": [
    {
     "name": "stdout",
     "output_type": "stream",
     "text": [
      "      No  Yes\n",
      "No   917   24\n",
      "Yes   48   11\n"
     ]
    },
    {
     "data": {
      "text/plain": [
       "0.3142857142857143"
      ]
     },
     "execution_count": 42,
     "metadata": {},
     "output_type": "execute_result"
    }
   ],
   "source": [
    "posterior = logistic_reg.predict_proba(X_test)\n",
    "y_pred = pd.Series(posterior[:, 1] > 0.25)\n",
    "y_pred.replace([True, False], [1, 0], inplace=True)\n",
    "\n",
    "cfm = confusion_matrix(y_test, y_pred)\n",
    "tn, fp, fn, tp = cfm.ravel()\n",
    "cfm\n",
    "\n",
    "df_cfm = pd.DataFrame(cfm)\n",
    "df_cfm.rename(columns = {0:'No', 1:'Yes'}, inplace = True)\n",
    "df_cfm.rename(index = {0:\"No\", 1:\"Yes\"}, inplace = True)\n",
    "\n",
    "print(df_cfm)\n",
    "\n",
    "success = (tp)/(tp+fp)\n",
    "success"
   ]
  },
  {
   "cell_type": "markdown",
   "metadata": {},
   "source": [
    "If we use a probability cutoff of 0.25 for the logistic regression model, we see that the success rate is 0.314 which is much better than using a cutoff of 0.5."
   ]
  },
  {
   "cell_type": "markdown",
   "metadata": {},
   "source": [
    "# 2 Classification Models for Stock Market Data"
   ]
  },
  {
   "cell_type": "markdown",
   "metadata": {},
   "source": [
    "## a) "
   ]
  },
  {
   "cell_type": "code",
   "execution_count": 43,
   "metadata": {},
   "outputs": [
    {
     "data": {
      "text/html": [
       "<div>\n",
       "<style scoped>\n",
       "    .dataframe tbody tr th:only-of-type {\n",
       "        vertical-align: middle;\n",
       "    }\n",
       "\n",
       "    .dataframe tbody tr th {\n",
       "        vertical-align: top;\n",
       "    }\n",
       "\n",
       "    .dataframe thead th {\n",
       "        text-align: right;\n",
       "    }\n",
       "</style>\n",
       "<table border=\"1\" class=\"dataframe\">\n",
       "  <thead>\n",
       "    <tr style=\"text-align: right;\">\n",
       "      <th></th>\n",
       "      <th>Year</th>\n",
       "      <th>Lag1</th>\n",
       "      <th>Lag2</th>\n",
       "      <th>Lag3</th>\n",
       "      <th>Lag4</th>\n",
       "      <th>Lag5</th>\n",
       "      <th>Volume</th>\n",
       "      <th>Today</th>\n",
       "      <th>Direction</th>\n",
       "    </tr>\n",
       "  </thead>\n",
       "  <tbody>\n",
       "    <tr>\n",
       "      <th>0</th>\n",
       "      <td>1990</td>\n",
       "      <td>0.816</td>\n",
       "      <td>1.572</td>\n",
       "      <td>-3.936</td>\n",
       "      <td>-0.229</td>\n",
       "      <td>-3.484</td>\n",
       "      <td>0.154976</td>\n",
       "      <td>-0.270</td>\n",
       "      <td>Down</td>\n",
       "    </tr>\n",
       "    <tr>\n",
       "      <th>1</th>\n",
       "      <td>1990</td>\n",
       "      <td>-0.270</td>\n",
       "      <td>0.816</td>\n",
       "      <td>1.572</td>\n",
       "      <td>-3.936</td>\n",
       "      <td>-0.229</td>\n",
       "      <td>0.148574</td>\n",
       "      <td>-2.576</td>\n",
       "      <td>Down</td>\n",
       "    </tr>\n",
       "    <tr>\n",
       "      <th>2</th>\n",
       "      <td>1990</td>\n",
       "      <td>-2.576</td>\n",
       "      <td>-0.270</td>\n",
       "      <td>0.816</td>\n",
       "      <td>1.572</td>\n",
       "      <td>-3.936</td>\n",
       "      <td>0.159837</td>\n",
       "      <td>3.514</td>\n",
       "      <td>Up</td>\n",
       "    </tr>\n",
       "    <tr>\n",
       "      <th>3</th>\n",
       "      <td>1990</td>\n",
       "      <td>3.514</td>\n",
       "      <td>-2.576</td>\n",
       "      <td>-0.270</td>\n",
       "      <td>0.816</td>\n",
       "      <td>1.572</td>\n",
       "      <td>0.161630</td>\n",
       "      <td>0.712</td>\n",
       "      <td>Up</td>\n",
       "    </tr>\n",
       "    <tr>\n",
       "      <th>4</th>\n",
       "      <td>1990</td>\n",
       "      <td>0.712</td>\n",
       "      <td>3.514</td>\n",
       "      <td>-2.576</td>\n",
       "      <td>-0.270</td>\n",
       "      <td>0.816</td>\n",
       "      <td>0.153728</td>\n",
       "      <td>1.178</td>\n",
       "      <td>Up</td>\n",
       "    </tr>\n",
       "    <tr>\n",
       "      <th>...</th>\n",
       "      <td>...</td>\n",
       "      <td>...</td>\n",
       "      <td>...</td>\n",
       "      <td>...</td>\n",
       "      <td>...</td>\n",
       "      <td>...</td>\n",
       "      <td>...</td>\n",
       "      <td>...</td>\n",
       "      <td>...</td>\n",
       "    </tr>\n",
       "    <tr>\n",
       "      <th>1084</th>\n",
       "      <td>2010</td>\n",
       "      <td>-0.861</td>\n",
       "      <td>0.043</td>\n",
       "      <td>-2.173</td>\n",
       "      <td>3.599</td>\n",
       "      <td>0.015</td>\n",
       "      <td>3.205160</td>\n",
       "      <td>2.969</td>\n",
       "      <td>Up</td>\n",
       "    </tr>\n",
       "    <tr>\n",
       "      <th>1085</th>\n",
       "      <td>2010</td>\n",
       "      <td>2.969</td>\n",
       "      <td>-0.861</td>\n",
       "      <td>0.043</td>\n",
       "      <td>-2.173</td>\n",
       "      <td>3.599</td>\n",
       "      <td>4.242568</td>\n",
       "      <td>1.281</td>\n",
       "      <td>Up</td>\n",
       "    </tr>\n",
       "    <tr>\n",
       "      <th>1086</th>\n",
       "      <td>2010</td>\n",
       "      <td>1.281</td>\n",
       "      <td>2.969</td>\n",
       "      <td>-0.861</td>\n",
       "      <td>0.043</td>\n",
       "      <td>-2.173</td>\n",
       "      <td>4.835082</td>\n",
       "      <td>0.283</td>\n",
       "      <td>Up</td>\n",
       "    </tr>\n",
       "    <tr>\n",
       "      <th>1087</th>\n",
       "      <td>2010</td>\n",
       "      <td>0.283</td>\n",
       "      <td>1.281</td>\n",
       "      <td>2.969</td>\n",
       "      <td>-0.861</td>\n",
       "      <td>0.043</td>\n",
       "      <td>4.454044</td>\n",
       "      <td>1.034</td>\n",
       "      <td>Up</td>\n",
       "    </tr>\n",
       "    <tr>\n",
       "      <th>1088</th>\n",
       "      <td>2010</td>\n",
       "      <td>1.034</td>\n",
       "      <td>0.283</td>\n",
       "      <td>1.281</td>\n",
       "      <td>2.969</td>\n",
       "      <td>-0.861</td>\n",
       "      <td>2.707105</td>\n",
       "      <td>0.069</td>\n",
       "      <td>Up</td>\n",
       "    </tr>\n",
       "  </tbody>\n",
       "</table>\n",
       "<p>1089 rows × 9 columns</p>\n",
       "</div>"
      ],
      "text/plain": [
       "      Year   Lag1   Lag2   Lag3   Lag4   Lag5    Volume  Today Direction\n",
       "0     1990  0.816  1.572 -3.936 -0.229 -3.484  0.154976 -0.270      Down\n",
       "1     1990 -0.270  0.816  1.572 -3.936 -0.229  0.148574 -2.576      Down\n",
       "2     1990 -2.576 -0.270  0.816  1.572 -3.936  0.159837  3.514        Up\n",
       "3     1990  3.514 -2.576 -0.270  0.816  1.572  0.161630  0.712        Up\n",
       "4     1990  0.712  3.514 -2.576 -0.270  0.816  0.153728  1.178        Up\n",
       "...    ...    ...    ...    ...    ...    ...       ...    ...       ...\n",
       "1084  2010 -0.861  0.043 -2.173  3.599  0.015  3.205160  2.969        Up\n",
       "1085  2010  2.969 -0.861  0.043 -2.173  3.599  4.242568  1.281        Up\n",
       "1086  2010  1.281  2.969 -0.861  0.043 -2.173  4.835082  0.283        Up\n",
       "1087  2010  0.283  1.281  2.969 -0.861  0.043  4.454044  1.034        Up\n",
       "1088  2010  1.034  0.283  1.281  2.969 -0.861  2.707105  0.069        Up\n",
       "\n",
       "[1089 rows x 9 columns]"
      ]
     },
     "execution_count": 43,
     "metadata": {},
     "output_type": "execute_result"
    }
   ],
   "source": [
    "df = pd.read_csv(\"weekly.csv\")\n",
    "df"
   ]
  },
  {
   "cell_type": "code",
   "execution_count": 44,
   "metadata": {},
   "outputs": [
    {
     "name": "stdout",
     "output_type": "stream",
     "text": [
      "<class 'pandas.core.frame.DataFrame'>\n",
      "RangeIndex: 1089 entries, 0 to 1088\n",
      "Data columns (total 9 columns):\n",
      " #   Column     Non-Null Count  Dtype  \n",
      "---  ------     --------------  -----  \n",
      " 0   Year       1089 non-null   int64  \n",
      " 1   Lag1       1089 non-null   float64\n",
      " 2   Lag2       1089 non-null   float64\n",
      " 3   Lag3       1089 non-null   float64\n",
      " 4   Lag4       1089 non-null   float64\n",
      " 5   Lag5       1089 non-null   float64\n",
      " 6   Volume     1089 non-null   float64\n",
      " 7   Today      1089 non-null   float64\n",
      " 8   Direction  1089 non-null   object \n",
      "dtypes: float64(7), int64(1), object(1)\n",
      "memory usage: 76.7+ KB\n"
     ]
    }
   ],
   "source": [
    "df.info()"
   ]
  },
  {
   "cell_type": "markdown",
   "metadata": {},
   "source": [
    "First, we download the data and inspect the info of the dataframe, we can see that there are 7 variables in total and 1089 rows of data. 6 of the variables are numerical while our dependent variable in the future models is categorical. There are no missing values in the data as well. "
   ]
  },
  {
   "cell_type": "code",
   "execution_count": 45,
   "metadata": {
    "scrolled": true
   },
   "outputs": [
    {
     "data": {
      "text/html": [
       "<div>\n",
       "<style scoped>\n",
       "    .dataframe tbody tr th:only-of-type {\n",
       "        vertical-align: middle;\n",
       "    }\n",
       "\n",
       "    .dataframe tbody tr th {\n",
       "        vertical-align: top;\n",
       "    }\n",
       "\n",
       "    .dataframe thead th {\n",
       "        text-align: right;\n",
       "    }\n",
       "</style>\n",
       "<table border=\"1\" class=\"dataframe\">\n",
       "  <thead>\n",
       "    <tr style=\"text-align: right;\">\n",
       "      <th></th>\n",
       "      <th>Year</th>\n",
       "      <th>Lag1</th>\n",
       "      <th>Lag2</th>\n",
       "      <th>Lag3</th>\n",
       "      <th>Lag4</th>\n",
       "      <th>Lag5</th>\n",
       "      <th>Volume</th>\n",
       "      <th>Today</th>\n",
       "    </tr>\n",
       "  </thead>\n",
       "  <tbody>\n",
       "    <tr>\n",
       "      <th>count</th>\n",
       "      <td>1089.000000</td>\n",
       "      <td>1089.000000</td>\n",
       "      <td>1089.000000</td>\n",
       "      <td>1089.000000</td>\n",
       "      <td>1089.000000</td>\n",
       "      <td>1089.000000</td>\n",
       "      <td>1089.000000</td>\n",
       "      <td>1089.000000</td>\n",
       "    </tr>\n",
       "    <tr>\n",
       "      <th>mean</th>\n",
       "      <td>2000.048669</td>\n",
       "      <td>0.150585</td>\n",
       "      <td>0.151079</td>\n",
       "      <td>0.147205</td>\n",
       "      <td>0.145818</td>\n",
       "      <td>0.139893</td>\n",
       "      <td>1.574618</td>\n",
       "      <td>0.149899</td>\n",
       "    </tr>\n",
       "    <tr>\n",
       "      <th>std</th>\n",
       "      <td>6.033182</td>\n",
       "      <td>2.357013</td>\n",
       "      <td>2.357254</td>\n",
       "      <td>2.360502</td>\n",
       "      <td>2.360279</td>\n",
       "      <td>2.361285</td>\n",
       "      <td>1.686636</td>\n",
       "      <td>2.356927</td>\n",
       "    </tr>\n",
       "    <tr>\n",
       "      <th>min</th>\n",
       "      <td>1990.000000</td>\n",
       "      <td>-18.195000</td>\n",
       "      <td>-18.195000</td>\n",
       "      <td>-18.195000</td>\n",
       "      <td>-18.195000</td>\n",
       "      <td>-18.195000</td>\n",
       "      <td>0.087465</td>\n",
       "      <td>-18.195000</td>\n",
       "    </tr>\n",
       "    <tr>\n",
       "      <th>25%</th>\n",
       "      <td>1995.000000</td>\n",
       "      <td>-1.154000</td>\n",
       "      <td>-1.154000</td>\n",
       "      <td>-1.158000</td>\n",
       "      <td>-1.158000</td>\n",
       "      <td>-1.166000</td>\n",
       "      <td>0.332022</td>\n",
       "      <td>-1.154000</td>\n",
       "    </tr>\n",
       "    <tr>\n",
       "      <th>50%</th>\n",
       "      <td>2000.000000</td>\n",
       "      <td>0.241000</td>\n",
       "      <td>0.241000</td>\n",
       "      <td>0.241000</td>\n",
       "      <td>0.238000</td>\n",
       "      <td>0.234000</td>\n",
       "      <td>1.002680</td>\n",
       "      <td>0.241000</td>\n",
       "    </tr>\n",
       "    <tr>\n",
       "      <th>75%</th>\n",
       "      <td>2005.000000</td>\n",
       "      <td>1.405000</td>\n",
       "      <td>1.409000</td>\n",
       "      <td>1.409000</td>\n",
       "      <td>1.409000</td>\n",
       "      <td>1.405000</td>\n",
       "      <td>2.053727</td>\n",
       "      <td>1.405000</td>\n",
       "    </tr>\n",
       "    <tr>\n",
       "      <th>max</th>\n",
       "      <td>2010.000000</td>\n",
       "      <td>12.026000</td>\n",
       "      <td>12.026000</td>\n",
       "      <td>12.026000</td>\n",
       "      <td>12.026000</td>\n",
       "      <td>12.026000</td>\n",
       "      <td>9.328214</td>\n",
       "      <td>12.026000</td>\n",
       "    </tr>\n",
       "  </tbody>\n",
       "</table>\n",
       "</div>"
      ],
      "text/plain": [
       "              Year         Lag1         Lag2         Lag3         Lag4  \\\n",
       "count  1089.000000  1089.000000  1089.000000  1089.000000  1089.000000   \n",
       "mean   2000.048669     0.150585     0.151079     0.147205     0.145818   \n",
       "std       6.033182     2.357013     2.357254     2.360502     2.360279   \n",
       "min    1990.000000   -18.195000   -18.195000   -18.195000   -18.195000   \n",
       "25%    1995.000000    -1.154000    -1.154000    -1.158000    -1.158000   \n",
       "50%    2000.000000     0.241000     0.241000     0.241000     0.238000   \n",
       "75%    2005.000000     1.405000     1.409000     1.409000     1.409000   \n",
       "max    2010.000000    12.026000    12.026000    12.026000    12.026000   \n",
       "\n",
       "              Lag5       Volume        Today  \n",
       "count  1089.000000  1089.000000  1089.000000  \n",
       "mean      0.139893     1.574618     0.149899  \n",
       "std       2.361285     1.686636     2.356927  \n",
       "min     -18.195000     0.087465   -18.195000  \n",
       "25%      -1.166000     0.332022    -1.154000  \n",
       "50%       0.234000     1.002680     0.241000  \n",
       "75%       1.405000     2.053727     1.405000  \n",
       "max      12.026000     9.328214    12.026000  "
      ]
     },
     "execution_count": 45,
     "metadata": {},
     "output_type": "execute_result"
    }
   ],
   "source": [
    "df.describe()"
   ]
  },
  {
   "cell_type": "markdown",
   "metadata": {},
   "source": [
    "In terms of numerical summaries, we can run the describe function and see the mean, standard deviation and the quartiles for each of the numerical variables. We can see that the lags don't differ much in every summary statistic. "
   ]
  },
  {
   "cell_type": "code",
   "execution_count": 46,
   "metadata": {},
   "outputs": [
    {
     "data": {
      "text/html": [
       "<div>\n",
       "<style scoped>\n",
       "    .dataframe tbody tr th:only-of-type {\n",
       "        vertical-align: middle;\n",
       "    }\n",
       "\n",
       "    .dataframe tbody tr th {\n",
       "        vertical-align: top;\n",
       "    }\n",
       "\n",
       "    .dataframe thead th {\n",
       "        text-align: right;\n",
       "    }\n",
       "</style>\n",
       "<table border=\"1\" class=\"dataframe\">\n",
       "  <thead>\n",
       "    <tr style=\"text-align: right;\">\n",
       "      <th></th>\n",
       "      <th>Year</th>\n",
       "      <th>Lag1</th>\n",
       "      <th>Lag2</th>\n",
       "      <th>Lag3</th>\n",
       "      <th>Lag4</th>\n",
       "      <th>Lag5</th>\n",
       "      <th>Volume</th>\n",
       "      <th>Today</th>\n",
       "    </tr>\n",
       "  </thead>\n",
       "  <tbody>\n",
       "    <tr>\n",
       "      <th>Year</th>\n",
       "      <td>1.000000</td>\n",
       "      <td>-0.032289</td>\n",
       "      <td>-0.033390</td>\n",
       "      <td>-0.030006</td>\n",
       "      <td>-0.031128</td>\n",
       "      <td>-0.030519</td>\n",
       "      <td>0.841942</td>\n",
       "      <td>-0.032460</td>\n",
       "    </tr>\n",
       "    <tr>\n",
       "      <th>Lag1</th>\n",
       "      <td>-0.032289</td>\n",
       "      <td>1.000000</td>\n",
       "      <td>-0.074853</td>\n",
       "      <td>0.058636</td>\n",
       "      <td>-0.071274</td>\n",
       "      <td>-0.008183</td>\n",
       "      <td>-0.064951</td>\n",
       "      <td>-0.075032</td>\n",
       "    </tr>\n",
       "    <tr>\n",
       "      <th>Lag2</th>\n",
       "      <td>-0.033390</td>\n",
       "      <td>-0.074853</td>\n",
       "      <td>1.000000</td>\n",
       "      <td>-0.075721</td>\n",
       "      <td>0.058382</td>\n",
       "      <td>-0.072499</td>\n",
       "      <td>-0.085513</td>\n",
       "      <td>0.059167</td>\n",
       "    </tr>\n",
       "    <tr>\n",
       "      <th>Lag3</th>\n",
       "      <td>-0.030006</td>\n",
       "      <td>0.058636</td>\n",
       "      <td>-0.075721</td>\n",
       "      <td>1.000000</td>\n",
       "      <td>-0.075396</td>\n",
       "      <td>0.060657</td>\n",
       "      <td>-0.069288</td>\n",
       "      <td>-0.071244</td>\n",
       "    </tr>\n",
       "    <tr>\n",
       "      <th>Lag4</th>\n",
       "      <td>-0.031128</td>\n",
       "      <td>-0.071274</td>\n",
       "      <td>0.058382</td>\n",
       "      <td>-0.075396</td>\n",
       "      <td>1.000000</td>\n",
       "      <td>-0.075675</td>\n",
       "      <td>-0.061075</td>\n",
       "      <td>-0.007826</td>\n",
       "    </tr>\n",
       "    <tr>\n",
       "      <th>Lag5</th>\n",
       "      <td>-0.030519</td>\n",
       "      <td>-0.008183</td>\n",
       "      <td>-0.072499</td>\n",
       "      <td>0.060657</td>\n",
       "      <td>-0.075675</td>\n",
       "      <td>1.000000</td>\n",
       "      <td>-0.058517</td>\n",
       "      <td>0.011013</td>\n",
       "    </tr>\n",
       "    <tr>\n",
       "      <th>Volume</th>\n",
       "      <td>0.841942</td>\n",
       "      <td>-0.064951</td>\n",
       "      <td>-0.085513</td>\n",
       "      <td>-0.069288</td>\n",
       "      <td>-0.061075</td>\n",
       "      <td>-0.058517</td>\n",
       "      <td>1.000000</td>\n",
       "      <td>-0.033078</td>\n",
       "    </tr>\n",
       "    <tr>\n",
       "      <th>Today</th>\n",
       "      <td>-0.032460</td>\n",
       "      <td>-0.075032</td>\n",
       "      <td>0.059167</td>\n",
       "      <td>-0.071244</td>\n",
       "      <td>-0.007826</td>\n",
       "      <td>0.011013</td>\n",
       "      <td>-0.033078</td>\n",
       "      <td>1.000000</td>\n",
       "    </tr>\n",
       "  </tbody>\n",
       "</table>\n",
       "</div>"
      ],
      "text/plain": [
       "            Year      Lag1      Lag2      Lag3      Lag4      Lag5    Volume  \\\n",
       "Year    1.000000 -0.032289 -0.033390 -0.030006 -0.031128 -0.030519  0.841942   \n",
       "Lag1   -0.032289  1.000000 -0.074853  0.058636 -0.071274 -0.008183 -0.064951   \n",
       "Lag2   -0.033390 -0.074853  1.000000 -0.075721  0.058382 -0.072499 -0.085513   \n",
       "Lag3   -0.030006  0.058636 -0.075721  1.000000 -0.075396  0.060657 -0.069288   \n",
       "Lag4   -0.031128 -0.071274  0.058382 -0.075396  1.000000 -0.075675 -0.061075   \n",
       "Lag5   -0.030519 -0.008183 -0.072499  0.060657 -0.075675  1.000000 -0.058517   \n",
       "Volume  0.841942 -0.064951 -0.085513 -0.069288 -0.061075 -0.058517  1.000000   \n",
       "Today  -0.032460 -0.075032  0.059167 -0.071244 -0.007826  0.011013 -0.033078   \n",
       "\n",
       "           Today  \n",
       "Year   -0.032460  \n",
       "Lag1   -0.075032  \n",
       "Lag2    0.059167  \n",
       "Lag3   -0.071244  \n",
       "Lag4   -0.007826  \n",
       "Lag5    0.011013  \n",
       "Volume -0.033078  \n",
       "Today   1.000000  "
      ]
     },
     "execution_count": 46,
     "metadata": {},
     "output_type": "execute_result"
    }
   ],
   "source": [
    "df.corr()"
   ]
  },
  {
   "cell_type": "markdown",
   "metadata": {},
   "source": [
    "Next, we compute the correlation matrix which gives us the correlation pairwise of every numerical variable. We can see the correlation beween `Year` and `Volume` has a high correlation while others don't see to have correlations that is big in absolute value."
   ]
  },
  {
   "cell_type": "code",
   "execution_count": 47,
   "metadata": {},
   "outputs": [
    {
     "name": "stderr",
     "output_type": "stream",
     "text": [
      "/opt/anaconda3/lib/python3.8/site-packages/seaborn/_decorators.py:36: FutureWarning: Pass the following variables as keyword args: x, y. From version 0.12, the only valid positional argument will be `data`, and passing other arguments without an explicit keyword will result in an error or misinterpretation.\n",
      "  warnings.warn(\n"
     ]
    },
    {
     "data": {
      "text/plain": [
       "<matplotlib.axes._subplots.AxesSubplot at 0x7fe64e6ee550>"
      ]
     },
     "execution_count": 47,
     "metadata": {},
     "output_type": "execute_result"
    },
    {
     "data": {
      "image/png": "[encoded data removed]",
      "text/plain": [
       "<Figure size 432x288 with 1 Axes>"
      ]
     },
     "metadata": {},
     "output_type": "display_data"
    }
   ],
   "source": [
    "sns.barplot(df.Year, df.Volume)"
   ]
  },
  {
   "cell_type": "markdown",
   "metadata": {},
   "source": [
    "Here is a barplot of `Year` and `Volume`. We can see from the graph that there is a trend that volume of trades increases over time."
   ]
  },
  {
   "cell_type": "code",
   "execution_count": 48,
   "metadata": {},
   "outputs": [
    {
     "name": "stderr",
     "output_type": "stream",
     "text": [
      "/opt/anaconda3/lib/python3.8/site-packages/seaborn/_decorators.py:36: FutureWarning: Pass the following variables as keyword args: x, y. From version 0.12, the only valid positional argument will be `data`, and passing other arguments without an explicit keyword will result in an error or misinterpretation.\n",
      "  warnings.warn(\n"
     ]
    },
    {
     "data": {
      "text/plain": [
       "<matplotlib.axes._subplots.AxesSubplot at 0x7fe63b9c6dc0>"
      ]
     },
     "execution_count": 48,
     "metadata": {},
     "output_type": "execute_result"
    },
    {
     "data": {
      "image/png": "[encoded data removed]",
      "text/plain": [
       "<Figure size 432x288 with 1 Axes>"
      ]
     },
     "metadata": {},
     "output_type": "display_data"
    }
   ],
   "source": [
    "sns.scatterplot(df.index, df.Volume)"
   ]
  },
  {
   "cell_type": "markdown",
   "metadata": {},
   "source": [
    "From this scatterplot,we can see that as index increases, `Volume` also increases which aligns with the barplot above"
   ]
  },
  {
   "cell_type": "code",
   "execution_count": 49,
   "metadata": {},
   "outputs": [
    {
     "data": {
      "text/plain": [
       "<matplotlib.axes._subplots.AxesSubplot at 0x7fe63bba1220>"
      ]
     },
     "execution_count": 49,
     "metadata": {},
     "output_type": "execute_result"
    },
    {
     "data": {
      "image/png": "[encoded data removed]",
      "text/plain": [
       "<Figure size 432x288 with 1 Axes>"
      ]
     },
     "metadata": {},
     "output_type": "display_data"
    }
   ],
   "source": [
    "year_group = df.groupby(['Year', 'Direction'])\n",
    "year_group.size().unstack().plot(kind='bar')"
   ]
  },
  {
   "cell_type": "markdown",
   "metadata": {},
   "source": [
    "Here is a grouped plot of `Direction` over the year span 1990 to 2010. We can visualize from the plot that for the weeks in years 1990 through 1999 and 2003 through 2012 have a higher percentage direction of `Up` except for weeks in year 2008. Weeks in years 2000 through 2002 has a higher percentage of direction `Down`."
   ]
  },
  {
   "cell_type": "markdown",
   "metadata": {},
   "source": [
    "## b)"
   ]
  },
  {
   "cell_type": "code",
   "execution_count": 50,
   "metadata": {},
   "outputs": [
    {
     "data": {
      "text/html": [
       "<table class=\"simpletable\">\n",
       "<caption>Generalized Linear Model Regression Results</caption>\n",
       "<tr>\n",
       "  <th>Dep. Variable:</th>   <td>['Direction[Down]', 'Direction[Up]']</td> <th>  No. Observations:  </th>  <td>  1089</td> \n",
       "</tr>\n",
       "<tr>\n",
       "  <th>Model:</th>                            <td>GLM</td>                 <th>  Df Residuals:      </th>  <td>  1082</td> \n",
       "</tr>\n",
       "<tr>\n",
       "  <th>Model Family:</th>                  <td>Binomial</td>               <th>  Df Model:          </th>  <td>     6</td> \n",
       "</tr>\n",
       "<tr>\n",
       "  <th>Link Function:</th>                   <td>logit</td>                <th>  Scale:             </th> <td>  1.0000</td>\n",
       "</tr>\n",
       "<tr>\n",
       "  <th>Method:</th>                          <td>IRLS</td>                 <th>  Log-Likelihood:    </th> <td> -743.18</td>\n",
       "</tr>\n",
       "<tr>\n",
       "  <th>Date:</th>                      <td>Thu, 23 Jun 2022</td>           <th>  Deviance:          </th> <td>  1486.4</td>\n",
       "</tr>\n",
       "<tr>\n",
       "  <th>Time:</th>                          <td>14:12:09</td>               <th>  Pearson chi2:      </th> <td>1.09e+03</td>\n",
       "</tr>\n",
       "<tr>\n",
       "  <th>No. Iterations:</th>                    <td>4</td>                  <th>                     </th>     <td> </td>   \n",
       "</tr>\n",
       "<tr>\n",
       "  <th>Covariance Type:</th>               <td>nonrobust</td>              <th>                     </th>     <td> </td>   \n",
       "</tr>\n",
       "</table>\n",
       "<table class=\"simpletable\">\n",
       "<tr>\n",
       "      <td></td>         <th>coef</th>     <th>std err</th>      <th>z</th>      <th>P>|z|</th>  <th>[0.025</th>    <th>0.975]</th>  \n",
       "</tr>\n",
       "<tr>\n",
       "  <th>Intercept</th> <td>   -0.2669</td> <td>    0.086</td> <td>   -3.106</td> <td> 0.002</td> <td>   -0.435</td> <td>   -0.098</td>\n",
       "</tr>\n",
       "<tr>\n",
       "  <th>Lag1</th>      <td>    0.0413</td> <td>    0.026</td> <td>    1.563</td> <td> 0.118</td> <td>   -0.010</td> <td>    0.093</td>\n",
       "</tr>\n",
       "<tr>\n",
       "  <th>Lag2</th>      <td>   -0.0584</td> <td>    0.027</td> <td>   -2.175</td> <td> 0.030</td> <td>   -0.111</td> <td>   -0.006</td>\n",
       "</tr>\n",
       "<tr>\n",
       "  <th>Lag3</th>      <td>    0.0161</td> <td>    0.027</td> <td>    0.602</td> <td> 0.547</td> <td>   -0.036</td> <td>    0.068</td>\n",
       "</tr>\n",
       "<tr>\n",
       "  <th>Lag4</th>      <td>    0.0278</td> <td>    0.026</td> <td>    1.050</td> <td> 0.294</td> <td>   -0.024</td> <td>    0.080</td>\n",
       "</tr>\n",
       "<tr>\n",
       "  <th>Lag5</th>      <td>    0.0145</td> <td>    0.026</td> <td>    0.549</td> <td> 0.583</td> <td>   -0.037</td> <td>    0.066</td>\n",
       "</tr>\n",
       "<tr>\n",
       "  <th>Volume</th>    <td>    0.0227</td> <td>    0.037</td> <td>    0.616</td> <td> 0.538</td> <td>   -0.050</td> <td>    0.095</td>\n",
       "</tr>\n",
       "</table>"
      ],
      "text/plain": [
       "<class 'statsmodels.iolib.summary.Summary'>\n",
       "\"\"\"\n",
       "                          Generalized Linear Model Regression Results                           \n",
       "================================================================================================\n",
       "Dep. Variable:     ['Direction[Down]', 'Direction[Up]']   No. Observations:                 1089\n",
       "Model:                                              GLM   Df Residuals:                     1082\n",
       "Model Family:                                  Binomial   Df Model:                            6\n",
       "Link Function:                                    logit   Scale:                          1.0000\n",
       "Method:                                            IRLS   Log-Likelihood:                -743.18\n",
       "Date:                                  Thu, 23 Jun 2022   Deviance:                       1486.4\n",
       "Time:                                          14:12:09   Pearson chi2:                 1.09e+03\n",
       "No. Iterations:                                       4                                         \n",
       "Covariance Type:                              nonrobust                                         \n",
       "==============================================================================\n",
       "                 coef    std err          z      P>|z|      [0.025      0.975]\n",
       "------------------------------------------------------------------------------\n",
       "Intercept     -0.2669      0.086     -3.106      0.002      -0.435      -0.098\n",
       "Lag1           0.0413      0.026      1.563      0.118      -0.010       0.093\n",
       "Lag2          -0.0584      0.027     -2.175      0.030      -0.111      -0.006\n",
       "Lag3           0.0161      0.027      0.602      0.547      -0.036       0.068\n",
       "Lag4           0.0278      0.026      1.050      0.294      -0.024       0.080\n",
       "Lag5           0.0145      0.026      0.549      0.583      -0.037       0.066\n",
       "Volume         0.0227      0.037      0.616      0.538      -0.050       0.095\n",
       "==============================================================================\n",
       "\"\"\""
      ]
     },
     "execution_count": 50,
     "metadata": {},
     "output_type": "execute_result"
    }
   ],
   "source": [
    "formula = 'Direction ~ Lag1 + Lag2 + Lag3 + Lag4 + Lag5 + Volume'\n",
    "smarket_glm = smf.glm(formula, data=df, family=sm.families.Binomial()).fit()\n",
    "smarket_glm.summary()"
   ]
  },
  {
   "cell_type": "markdown",
   "metadata": {},
   "source": [
    "In order to get the p-values, we first use the statsmodel technique to fit the logistic regression model. Looking at the p-values, we see that only `Lag2` has a p-value of 0.03 which is smaller than 0.05 so we can conclude that it is statistically signifcicant. Using the statsmodel gives an opposite coefficient for every independent variable as seen in problem 1 so for the correct encoding, I will use the sklearn method again. The p-values are not affected."
   ]
  },
  {
   "cell_type": "code",
   "execution_count": 51,
   "metadata": {},
   "outputs": [
    {
     "name": "stdout",
     "output_type": "stream",
     "text": [
      "[[-0.04126771  0.05844169 -0.01606184 -0.02778928 -0.01447421 -0.02274122]]\n",
      "[0.26686253]\n"
     ]
    }
   ],
   "source": [
    "features = ['Lag1', 'Lag2', 'Lag3', 'Lag4', 'Lag5', 'Volume']\n",
    "response = 'Direction'\n",
    "\n",
    "X = df[features]\n",
    "y = df[response]\n",
    "\n",
    "logistic_reg = LogisticRegression(penalty='none').fit(X,y)\n",
    "print(logistic_reg.coef_)\n",
    "print(logistic_reg.intercept_)"
   ]
  },
  {
   "cell_type": "markdown",
   "metadata": {},
   "source": [
    "Here are the coefficients and intercept of our fitted logistic regression model. "
   ]
  },
  {
   "cell_type": "markdown",
   "metadata": {},
   "source": [
    "## c)"
   ]
  },
  {
   "cell_type": "code",
   "execution_count": 52,
   "metadata": {},
   "outputs": [
    {
     "data": {
      "text/html": [
       "<div>\n",
       "<style scoped>\n",
       "    .dataframe tbody tr th:only-of-type {\n",
       "        vertical-align: middle;\n",
       "    }\n",
       "\n",
       "    .dataframe tbody tr th {\n",
       "        vertical-align: top;\n",
       "    }\n",
       "\n",
       "    .dataframe thead th {\n",
       "        text-align: right;\n",
       "    }\n",
       "</style>\n",
       "<table border=\"1\" class=\"dataframe\">\n",
       "  <thead>\n",
       "    <tr style=\"text-align: right;\">\n",
       "      <th></th>\n",
       "      <th>Down</th>\n",
       "      <th>Up</th>\n",
       "    </tr>\n",
       "  </thead>\n",
       "  <tbody>\n",
       "    <tr>\n",
       "      <th>Down</th>\n",
       "      <td>54</td>\n",
       "      <td>430</td>\n",
       "    </tr>\n",
       "    <tr>\n",
       "      <th>Up</th>\n",
       "      <td>48</td>\n",
       "      <td>557</td>\n",
       "    </tr>\n",
       "  </tbody>\n",
       "</table>\n",
       "</div>"
      ],
      "text/plain": [
       "      Down   Up\n",
       "Down    54  430\n",
       "Up      48  557"
      ]
     },
     "execution_count": 52,
     "metadata": {},
     "output_type": "execute_result"
    }
   ],
   "source": [
    "y_pred = logistic_reg.predict(X)\n",
    "\n",
    "cfm = confusion_matrix(y, y_pred)\n",
    "tn, fp, fn, tp = cfm.ravel()\n",
    "cfm\n",
    "\n",
    "df_cfm = pd.DataFrame(cfm)\n",
    "df_cfm.rename(columns = {0:'Down', 1:'Up'}, inplace = True)\n",
    "df_cfm.rename(index = {0: \"Down\", 1:\"Up\"}, inplace = True)\n",
    "\n",
    "df_cfm"
   ]
  },
  {
   "cell_type": "markdown",
   "metadata": {},
   "source": [
    "Here is the confusion matrix associated with the logistic regression model above. We can interpret this as there are 54 predictions that predicted down and is actually down; 557 predictions that predicted up and is actually up. This is the amount of accurate predictions."
   ]
  },
  {
   "cell_type": "code",
   "execution_count": 53,
   "metadata": {},
   "outputs": [
    {
     "data": {
      "text/plain": [
       "0.5610651974288338"
      ]
     },
     "execution_count": 53,
     "metadata": {},
     "output_type": "execute_result"
    }
   ],
   "source": [
    "acc = (tp+tn)/(tp+fn+tn+fp)\n",
    "acc"
   ]
  },
  {
   "cell_type": "markdown",
   "metadata": {},
   "source": [
    "Here is the overall fraction of correct predictions: 0.561"
   ]
  },
  {
   "cell_type": "markdown",
   "metadata": {},
   "source": [
    "There are two types of errors in the confusion matrix: false positives and false negatives. In this case, the confusion matrix tells us the false positives is 430 and false negatives is 48. "
   ]
  },
  {
   "cell_type": "markdown",
   "metadata": {},
   "source": [
    "## d)"
   ]
  },
  {
   "cell_type": "code",
   "execution_count": 54,
   "metadata": {},
   "outputs": [
    {
     "name": "stdout",
     "output_type": "stream",
     "text": [
      "Training dataset shape:  (985, 9)\n",
      "Test dataset shape:  (104, 9)\n"
     ]
    }
   ],
   "source": [
    "df_train = df.loc[df.Year <= 2008]\n",
    "df_test = df.loc[df.Year > 2008]\n",
    "print(\"Training dataset shape: \", df_train.shape)\n",
    "print(\"Test dataset shape: \", df_test.shape)"
   ]
  },
  {
   "cell_type": "markdown",
   "metadata": {},
   "source": [
    "Here we split the data into training and test sets based on years in question. We can see that training dataset has 985 observations and test dataset has 104 observations. "
   ]
  },
  {
   "cell_type": "code",
   "execution_count": 55,
   "metadata": {},
   "outputs": [
    {
     "name": "stdout",
     "output_type": "stream",
     "text": [
      "      Down  Up\n",
      "Down     9  34\n",
      "Up       5  56\n"
     ]
    },
    {
     "data": {
      "text/plain": [
       "0.625"
      ]
     },
     "execution_count": 55,
     "metadata": {},
     "output_type": "execute_result"
    }
   ],
   "source": [
    "features = ['Lag2']\n",
    "X_train = df_train[features]\n",
    "y_train = df_train[response]\n",
    "\n",
    "logistic_reg = LogisticRegression(penalty='none') \n",
    "logistic_reg.fit(X_train, y_train)\n",
    "\n",
    "X_test = df_test[features]\n",
    "y_test = df_test[response]\n",
    "y_pred = logistic_reg.predict(X_test)\n",
    "\n",
    "cfm = confusion_matrix(y_test, y_pred)\n",
    "tn, fp, fn, tp = cfm.ravel()\n",
    "cfm\n",
    "\n",
    "df_cfm = pd.DataFrame(cfm)\n",
    "df_cfm.rename(columns = {0:'Down', 1:'Up'}, inplace = True)\n",
    "df_cfm.rename(index = {0: \"Down\", 1:\"Up\"}, inplace = True)\n",
    "\n",
    "print(df_cfm)\n",
    "\n",
    "acc = (tp+tn)/(tp+fn+tn+fp)\n",
    "acc"
   ]
  },
  {
   "cell_type": "markdown",
   "metadata": {},
   "source": [
    "Here is the associated confusion matrix for the logistic regression model with `Lag2` as the only predictor. We see that the overall fraction of correct predictions for the testing dataset is 0.625"
   ]
  },
  {
   "cell_type": "markdown",
   "metadata": {},
   "source": [
    "## e) "
   ]
  },
  {
   "cell_type": "code",
   "execution_count": 56,
   "metadata": {},
   "outputs": [
    {
     "data": {
      "text/plain": [
       "LinearDiscriminantAnalysis()"
      ]
     },
     "execution_count": 56,
     "metadata": {},
     "output_type": "execute_result"
    }
   ],
   "source": [
    "features = ['Lag2']\n",
    "X_train = df_train[features]\n",
    "y_train = df_train[response]\n",
    "\n",
    "lda_model = LDA()\n",
    "lda_model.fit(X_train, y_train)"
   ]
  },
  {
   "cell_type": "markdown",
   "metadata": {},
   "source": [
    "Here we fit the LDA model."
   ]
  },
  {
   "cell_type": "code",
   "execution_count": 57,
   "metadata": {},
   "outputs": [
    {
     "name": "stdout",
     "output_type": "stream",
     "text": [
      "      Down  Up\n",
      "Down     9  34\n",
      "Up       5  56\n"
     ]
    },
    {
     "data": {
      "text/plain": [
       "0.625"
      ]
     },
     "execution_count": 57,
     "metadata": {},
     "output_type": "execute_result"
    }
   ],
   "source": [
    "X_test = df_test[features]\n",
    "y_test = df_test[response]\n",
    "y_pred = lda_model.predict(X_test)\n",
    "\n",
    "cfm = confusion_matrix(y_test, y_pred)\n",
    "tn, fp, fn, tp = cfm.ravel()\n",
    "cfm\n",
    "\n",
    "df_cfm = pd.DataFrame(cfm)\n",
    "df_cfm.rename(columns = {0:'Down', 1:'Up'}, inplace = True)\n",
    "df_cfm.rename(index = {0:\"Down\", 1:\"Up\"}, inplace = True)\n",
    "\n",
    "print(df_cfm)\n",
    "\n",
    "acc = (tp+tn)/(tp+fn+tn+fp)\n",
    "acc"
   ]
  },
  {
   "cell_type": "markdown",
   "metadata": {},
   "source": [
    "Here is the associated confusion matrix for the LDA model with Lag2 as the only predictor. We see that the overall fraction of correct predictions for the testing dataset is 0.625."
   ]
  },
  {
   "cell_type": "markdown",
   "metadata": {},
   "source": [
    "## f)"
   ]
  },
  {
   "cell_type": "code",
   "execution_count": 58,
   "metadata": {},
   "outputs": [
    {
     "data": {
      "text/plain": [
       "QuadraticDiscriminantAnalysis()"
      ]
     },
     "execution_count": 58,
     "metadata": {},
     "output_type": "execute_result"
    }
   ],
   "source": [
    "features = ['Lag2']\n",
    "X_train = df_train[features]\n",
    "y_train = df_train[response]\n",
    "\n",
    "qda_model = QDA()\n",
    "qda_model.fit(X_train, y_train)\n"
   ]
  },
  {
   "cell_type": "markdown",
   "metadata": {},
   "source": [
    "Here we fit the QDA model."
   ]
  },
  {
   "cell_type": "code",
   "execution_count": 59,
   "metadata": {},
   "outputs": [
    {
     "name": "stdout",
     "output_type": "stream",
     "text": [
      "      Down  Up\n",
      "Down     0  43\n",
      "Up       0  61\n"
     ]
    },
    {
     "data": {
      "text/plain": [
       "0.5865384615384616"
      ]
     },
     "execution_count": 59,
     "metadata": {},
     "output_type": "execute_result"
    }
   ],
   "source": [
    "X_test = df_test[features]\n",
    "y_test = df_test[response]\n",
    "y_pred = qda_model.predict(X_test)\n",
    "\n",
    "cfm = confusion_matrix(y_test, y_pred)\n",
    "tn, fp, fn, tp = cfm.ravel()\n",
    "cfm\n",
    "\n",
    "df_cfm = pd.DataFrame(cfm)\n",
    "df_cfm.rename(columns = {0:'Down', 1:'Up'}, inplace = True)\n",
    "df_cfm.rename(index = {0:\"Down\", 1:\"Up\"}, inplace = True)\n",
    "\n",
    "print(df_cfm)\n",
    "\n",
    "acc = (tp+tn)/(tp+fn+tn+fp)\n",
    "acc"
   ]
  },
  {
   "cell_type": "markdown",
   "metadata": {},
   "source": [
    "Here is the associated confusion matrix for the QDA model with Lag2 as the only predictor. We see that the overall fraction of correct predictions for the testing dataset is 0.587."
   ]
  },
  {
   "cell_type": "markdown",
   "metadata": {},
   "source": [
    "## g)"
   ]
  },
  {
   "cell_type": "code",
   "execution_count": 60,
   "metadata": {},
   "outputs": [
    {
     "data": {
      "text/plain": [
       "KNeighborsClassifier(n_neighbors=1)"
      ]
     },
     "execution_count": 60,
     "metadata": {},
     "output_type": "execute_result"
    }
   ],
   "source": [
    "features = ['Lag2']\n",
    "X_train = df_train[features]\n",
    "y_train = df_train[response]\n",
    "\n",
    "knn_model = KNN(n_neighbors=1)\n",
    "knn_model.fit(X_train, y_train)"
   ]
  },
  {
   "cell_type": "markdown",
   "metadata": {},
   "source": [
    "Here we fit the KNN model with K=1."
   ]
  },
  {
   "cell_type": "code",
   "execution_count": 61,
   "metadata": {},
   "outputs": [
    {
     "name": "stdout",
     "output_type": "stream",
     "text": [
      "      Down  Up\n",
      "Down    21  22\n",
      "Up      30  31\n"
     ]
    },
    {
     "data": {
      "text/plain": [
       "0.5"
      ]
     },
     "execution_count": 61,
     "metadata": {},
     "output_type": "execute_result"
    }
   ],
   "source": [
    "X_test = df_test[features]\n",
    "y_test = df_test[response]\n",
    "y_pred = knn_model.predict(X_test)\n",
    "\n",
    "cfm = confusion_matrix(y_test, y_pred)\n",
    "tn, fp, fn, tp = cfm.ravel()\n",
    "cfm\n",
    "\n",
    "df_cfm = pd.DataFrame(cfm)\n",
    "df_cfm.rename(columns = {0:'Down', 1:'Up'}, inplace = True)\n",
    "df_cfm.rename(index = {0:\"Down\", 1:\"Up\"}, inplace = True)\n",
    "\n",
    "print(df_cfm)\n",
    "\n",
    "acc = (tp+tn)/(tp+fn+tn+fp)\n",
    "acc\n"
   ]
  },
  {
   "cell_type": "markdown",
   "metadata": {},
   "source": [
    "Here is the associated confusion matrix for the KNN model with Lag2 as the only predictor. We see that the overall fraction of correct predictions for the testing dataset is 0.5."
   ]
  },
  {
   "cell_type": "markdown",
   "metadata": {},
   "source": [
    "## h)"
   ]
  },
  {
   "cell_type": "code",
   "execution_count": 62,
   "metadata": {},
   "outputs": [
    {
     "data": {
      "text/plain": [
       "GaussianNB()"
      ]
     },
     "execution_count": 62,
     "metadata": {},
     "output_type": "execute_result"
    }
   ],
   "source": [
    "features = ['Lag2']\n",
    "X_train = df_train[features]\n",
    "y_train = df_train[response]\n",
    "\n",
    "gnb_model = GNB()\n",
    "gnb_model.fit(X_train, y_train)"
   ]
  },
  {
   "cell_type": "markdown",
   "metadata": {},
   "source": [
    "Here we fit the Gaussian Naive Bayes Model."
   ]
  },
  {
   "cell_type": "code",
   "execution_count": 63,
   "metadata": {},
   "outputs": [
    {
     "name": "stdout",
     "output_type": "stream",
     "text": [
      "      Down  Up\n",
      "Down     0  43\n",
      "Up       0  61\n"
     ]
    },
    {
     "data": {
      "text/plain": [
       "0.5865384615384616"
      ]
     },
     "execution_count": 63,
     "metadata": {},
     "output_type": "execute_result"
    }
   ],
   "source": [
    "X_test = df_test[features]\n",
    "y_test = df_test[response]\n",
    "y_pred = gnb_model.predict(X_test)\n",
    "\n",
    "cfm = confusion_matrix(y_test, y_pred)\n",
    "tn, fp, fn, tp = cfm.ravel()\n",
    "cfm\n",
    "\n",
    "df_cfm = pd.DataFrame(cfm)\n",
    "df_cfm.rename(columns = {0:'Down', 1:'Up'}, inplace = True)\n",
    "df_cfm.rename(index = {0:\"Down\", 1:\"Up\"}, inplace = True)\n",
    "\n",
    "print(df_cfm)\n",
    "\n",
    "acc = (tp+tn)/(tp+fn+tn+fp)\n",
    "acc\n"
   ]
  },
  {
   "cell_type": "markdown",
   "metadata": {},
   "source": [
    "Here is the associated confusion matrix for the Naive Bayes model with Lag2 as the only predictor. We see that the overall fraction of correct predictions for the testing dataset is 0.587."
   ]
  },
  {
   "cell_type": "markdown",
   "metadata": {},
   "source": [
    "## i)"
   ]
  },
  {
   "cell_type": "markdown",
   "metadata": {},
   "source": [
    "Comparing the overall fraction of correct predictions by the different models, the logistic regression model and the LDA model has the highest value: 0.625. So these two methods appear to provide the best results on the data."
   ]
  },
  {
   "cell_type": "markdown",
   "metadata": {},
   "source": [
    "## j)"
   ]
  },
  {
   "cell_type": "markdown",
   "metadata": {},
   "source": [
    "Since logistic regression and LDA model had the highest value of fraction of correct predictions, we will make adjustments to these models to see if there are any further improvements."
   ]
  },
  {
   "cell_type": "markdown",
   "metadata": {},
   "source": [
    "### Experimenting with Logistic Regression"
   ]
  },
  {
   "cell_type": "code",
   "execution_count": 64,
   "metadata": {},
   "outputs": [
    {
     "name": "stdout",
     "output_type": "stream",
     "text": [
      "      Down  Up\n",
      "Down     0  43\n",
      "Up       0  61\n"
     ]
    },
    {
     "data": {
      "text/plain": [
       "0.5865384615384616"
      ]
     },
     "execution_count": 64,
     "metadata": {},
     "output_type": "execute_result"
    }
   ],
   "source": [
    "df['Lag2_squared'] = df['Lag2']**2\n",
    "\n",
    "df_train = df.loc[df.Year <= 2008]\n",
    "df_test = df.loc[df.Year > 2008]\n",
    "\n",
    "features = ['Lag2_squared']\n",
    "X_train = df_train[features]\n",
    "y_train = df_train[response]\n",
    "\n",
    "logistic_reg = LogisticRegression(penalty='none') \n",
    "logistic_reg.fit(X_train, y_train)\n",
    "\n",
    "X_test = df_test[features]\n",
    "y_test = df_test[response]\n",
    "y_pred = logistic_reg.predict(X_test)\n",
    "\n",
    "cfm = confusion_matrix(y_test, y_pred)\n",
    "tn, fp, fn, tp = cfm.ravel()\n",
    "cfm\n",
    "\n",
    "df_cfm = pd.DataFrame(cfm)\n",
    "df_cfm.rename(columns = {0:'Down', 1:'Up'}, inplace = True)\n",
    "df_cfm.rename(index = {0: \"Down\", 1:\"Up\"}, inplace = True)\n",
    "\n",
    "print(df_cfm)\n",
    "\n",
    "acc = (tp+tn)/(tp+fn+tn+fp)\n",
    "acc"
   ]
  },
  {
   "cell_type": "markdown",
   "metadata": {},
   "source": [
    "We transform `Lag2` to take its square and fit this in the logistic regression model, the accuracy went down to 0.587."
   ]
  },
  {
   "cell_type": "code",
   "execution_count": 65,
   "metadata": {},
   "outputs": [
    {
     "name": "stdout",
     "output_type": "stream",
     "text": [
      "      Down  Up\n",
      "Down     9  34\n",
      "Up       5  56\n"
     ]
    },
    {
     "data": {
      "text/plain": [
       "0.625"
      ]
     },
     "execution_count": 65,
     "metadata": {},
     "output_type": "execute_result"
    }
   ],
   "source": [
    "df['Lag2_sqrt'] = df['Lag2']**1/2\n",
    "\n",
    "df_train = df.loc[df.Year <= 2008]\n",
    "df_test = df.loc[df.Year > 2008]\n",
    "\n",
    "features = ['Lag2_sqrt']\n",
    "X_train = df_train[features]\n",
    "y_train = df_train[response]\n",
    "\n",
    "logistic_reg = LogisticRegression(penalty='none') \n",
    "logistic_reg.fit(X_train, y_train)\n",
    "\n",
    "X_test = df_test[features]\n",
    "y_test = df_test[response]\n",
    "y_pred = logistic_reg.predict(X_test)\n",
    "\n",
    "cfm = confusion_matrix(y_test, y_pred)\n",
    "tn, fp, fn, tp = cfm.ravel()\n",
    "cfm\n",
    "\n",
    "df_cfm = pd.DataFrame(cfm)\n",
    "df_cfm.rename(columns = {0:'Down', 1:'Up'}, inplace = True)\n",
    "df_cfm.rename(index = {0: \"Down\", 1:\"Up\"}, inplace = True)\n",
    "\n",
    "print(df_cfm)\n",
    "\n",
    "acc = (tp+tn)/(tp+fn+tn+fp)\n",
    "acc"
   ]
  },
  {
   "cell_type": "markdown",
   "metadata": {},
   "source": [
    "We transform `Lag2` to take its square root and fit this in the logistic regression model, the accuracy remains the same."
   ]
  },
  {
   "cell_type": "code",
   "execution_count": 66,
   "metadata": {},
   "outputs": [
    {
     "name": "stdout",
     "output_type": "stream",
     "text": [
      "      Down  Up\n",
      "Down     7  36\n",
      "Up       8  53\n"
     ]
    },
    {
     "data": {
      "text/plain": [
       "0.5769230769230769"
      ]
     },
     "execution_count": 66,
     "metadata": {},
     "output_type": "execute_result"
    }
   ],
   "source": [
    "features = ['Lag1', 'Lag2']\n",
    "X_train = df_train[features]\n",
    "y_train = df_train[response]\n",
    "\n",
    "interaction = PolynomialFeatures(include_bias=False, interaction_only=True)\n",
    "X_train_int = pd.DataFrame(interaction.fit_transform(X_train)) \n",
    "\n",
    "logistic_reg = LogisticRegression(penalty='none') \n",
    "logistic_reg.fit(X_train_int, y_train)\n",
    "\n",
    "X_test = df_test[features]\n",
    "X_test_int = pd.DataFrame(interaction.fit_transform(X_test)) \n",
    "y_test = df_test[response]\n",
    "y_pred = logistic_reg.predict(X_test_int)\n",
    "\n",
    "cfm = confusion_matrix(y_test, y_pred)\n",
    "tn, fp, fn, tp = cfm.ravel()\n",
    "cfm\n",
    "\n",
    "df_cfm = pd.DataFrame(cfm)\n",
    "df_cfm.rename(columns = {0:'Down', 1:'Up'}, inplace = True)\n",
    "df_cfm.rename(index = {0: \"Down\", 1:\"Up\"}, inplace = True)\n",
    "\n",
    "print(df_cfm)\n",
    "\n",
    "acc = (tp+tn)/(tp+fn+tn+fp)\n",
    "acc\n"
   ]
  },
  {
   "cell_type": "markdown",
   "metadata": {},
   "source": [
    "I chose `Lag1` to produce an interaction term since it had the smallest p-value compared to other variables. We see that the accuracy decreased to 0.577. "
   ]
  },
  {
   "cell_type": "markdown",
   "metadata": {},
   "source": [
    "### Experimenting with LDA"
   ]
  },
  {
   "cell_type": "code",
   "execution_count": 67,
   "metadata": {},
   "outputs": [
    {
     "name": "stdout",
     "output_type": "stream",
     "text": [
      "      Down  Up\n",
      "Down     0  43\n",
      "Up       0  61\n"
     ]
    },
    {
     "data": {
      "text/plain": [
       "0.5865384615384616"
      ]
     },
     "execution_count": 67,
     "metadata": {},
     "output_type": "execute_result"
    }
   ],
   "source": [
    "df['Lag2_squared'] = df['Lag2']**2\n",
    "\n",
    "df_train = df.loc[df.Year <= 2008]\n",
    "df_test = df.loc[df.Year > 2008]\n",
    "\n",
    "features = ['Lag2_squared']\n",
    "X_train = df_train[features]\n",
    "y_train = df_train[response]\n",
    "\n",
    "lda_model = LDA()\n",
    "lda_model.fit(X_train, y_train)\n",
    "\n",
    "X_test = df_test[features]\n",
    "y_test = df_test[response]\n",
    "y_pred = lda_model.predict(X_test)\n",
    "\n",
    "cfm = confusion_matrix(y_test, y_pred)\n",
    "tn, fp, fn, tp = cfm.ravel()\n",
    "cfm\n",
    "\n",
    "df_cfm = pd.DataFrame(cfm)\n",
    "df_cfm.rename(columns = {0:'Down', 1:'Up'}, inplace = True)\n",
    "df_cfm.rename(index = {0:\"Down\", 1:\"Up\"}, inplace = True)\n",
    "\n",
    "print(df_cfm)\n",
    "\n",
    "acc = (tp+tn)/(tp+fn+tn+fp)\n",
    "acc\n"
   ]
  },
  {
   "cell_type": "code",
   "execution_count": 68,
   "metadata": {},
   "outputs": [
    {
     "name": "stdout",
     "output_type": "stream",
     "text": [
      "      Down  Up\n",
      "Down     9  34\n",
      "Up       5  56\n"
     ]
    },
    {
     "data": {
      "text/plain": [
       "0.625"
      ]
     },
     "execution_count": 68,
     "metadata": {},
     "output_type": "execute_result"
    }
   ],
   "source": [
    "df['Lag2_sqrt'] = df['Lag2']**1/2\n",
    "\n",
    "df_train = df.loc[df.Year <= 2008]\n",
    "df_test = df.loc[df.Year > 2008]\n",
    "\n",
    "features = ['Lag2_sqrt']\n",
    "X_train = df_train[features]\n",
    "y_train = df_train[response]\n",
    "\n",
    "lda_model = LDA()\n",
    "lda_model.fit(X_train, y_train)\n",
    "\n",
    "X_test = df_test[features]\n",
    "y_test = df_test[response]\n",
    "y_pred = lda_model.predict(X_test)\n",
    "\n",
    "cfm = confusion_matrix(y_test, y_pred)\n",
    "tn, fp, fn, tp = cfm.ravel()\n",
    "cfm\n",
    "\n",
    "df_cfm = pd.DataFrame(cfm)\n",
    "df_cfm.rename(columns = {0:'Down', 1:'Up'}, inplace = True)\n",
    "df_cfm.rename(index = {0:\"Down\", 1:\"Up\"}, inplace = True)\n",
    "\n",
    "print(df_cfm)\n",
    "\n",
    "acc = (tp+tn)/(tp+fn+tn+fp)\n",
    "acc"
   ]
  },
  {
   "cell_type": "code",
   "execution_count": 69,
   "metadata": {},
   "outputs": [
    {
     "name": "stdout",
     "output_type": "stream",
     "text": [
      "      Down  Up\n",
      "Down     7  36\n",
      "Up       8  53\n"
     ]
    },
    {
     "data": {
      "text/plain": [
       "0.5769230769230769"
      ]
     },
     "execution_count": 69,
     "metadata": {},
     "output_type": "execute_result"
    }
   ],
   "source": [
    "features = ['Lag1', 'Lag2']\n",
    "X_train = df_train[features]\n",
    "y_train = df_train[response]\n",
    "\n",
    "interaction = PolynomialFeatures(include_bias=False, interaction_only=True)\n",
    "X_train_int = pd.DataFrame(interaction.fit_transform(X_train)) \n",
    "\n",
    "lda_model = LDA()\n",
    "lda_model.fit(X_train_int, y_train)\n",
    "\n",
    "X_test = df_test[features]\n",
    "X_test_int = pd.DataFrame(interaction.fit_transform(X_test)) \n",
    "y_test = df_test[response]\n",
    "y_pred = lda_model.predict(X_test_int)\n",
    "\n",
    "cfm = confusion_matrix(y_test, y_pred)\n",
    "tn, fp, fn, tp = cfm.ravel()\n",
    "cfm\n",
    "\n",
    "df_cfm = pd.DataFrame(cfm)\n",
    "df_cfm.rename(columns = {0:'Down', 1:'Up'}, inplace = True)\n",
    "df_cfm.rename(index = {0: \"Down\", 1:\"Up\"}, inplace = True)\n",
    "\n",
    "print(df_cfm)\n",
    "\n",
    "acc = (tp+tn)/(tp+fn+tn+fp)\n",
    "acc\n"
   ]
  },
  {
   "cell_type": "markdown",
   "metadata": {},
   "source": [
    "Running the same transformations and interactions as in the logistic regression model, we don't see any improvement in accuracy. Best accuracy is still 0.625 by the original logistic regression and LDA."
   ]
  },
  {
   "cell_type": "markdown",
   "metadata": {},
   "source": [
    "### Experimenting with Different K values for KNN "
   ]
  },
  {
   "cell_type": "markdown",
   "metadata": {},
   "source": [
    "### K=5 "
   ]
  },
  {
   "cell_type": "code",
   "execution_count": 70,
   "metadata": {},
   "outputs": [
    {
     "name": "stdout",
     "output_type": "stream",
     "text": [
      "      Down  Up\n",
      "Down    16  27\n",
      "Up      22  39\n"
     ]
    },
    {
     "data": {
      "text/plain": [
       "0.5288461538461539"
      ]
     },
     "execution_count": 70,
     "metadata": {},
     "output_type": "execute_result"
    }
   ],
   "source": [
    "features = ['Lag2']\n",
    "X_train = df_train[features]\n",
    "y_train = df_train[response]\n",
    "\n",
    "knn_model = KNN(n_neighbors=5)\n",
    "knn_model.fit(X_train, y_train)\n",
    "\n",
    "X_test = df_test[features]\n",
    "y_test = df_test[response]\n",
    "y_pred = knn_model.predict(X_test)\n",
    "\n",
    "cfm = confusion_matrix(y_test, y_pred)\n",
    "tn, fp, fn, tp = cfm.ravel()\n",
    "cfm\n",
    "\n",
    "df_cfm = pd.DataFrame(cfm)\n",
    "df_cfm.rename(columns = {0:'Down', 1:'Up'}, inplace = True)\n",
    "df_cfm.rename(index = {0:\"Down\", 1:\"Up\"}, inplace = True)\n",
    "\n",
    "print(df_cfm)\n",
    "\n",
    "acc = (tp+tn)/(tp+fn+tn+fp)\n",
    "acc\n"
   ]
  },
  {
   "cell_type": "markdown",
   "metadata": {},
   "source": [
    "When K=5, we see that the accuracy increased from 0.5 to 0.529."
   ]
  },
  {
   "cell_type": "markdown",
   "metadata": {},
   "source": [
    "### K=10"
   ]
  },
  {
   "cell_type": "code",
   "execution_count": 71,
   "metadata": {},
   "outputs": [
    {
     "name": "stdout",
     "output_type": "stream",
     "text": [
      "      Down  Up\n",
      "Down    22  21\n",
      "Up      24  37\n"
     ]
    },
    {
     "data": {
      "text/plain": [
       "0.5673076923076923"
      ]
     },
     "execution_count": 71,
     "metadata": {},
     "output_type": "execute_result"
    }
   ],
   "source": [
    "features = ['Lag2']\n",
    "X_train = df_train[features]\n",
    "y_train = df_train[response]\n",
    "\n",
    "knn_model = KNN(n_neighbors=10)\n",
    "knn_model.fit(X_train, y_train)\n",
    "\n",
    "X_test = df_test[features]\n",
    "y_test = df_test[response]\n",
    "y_pred = knn_model.predict(X_test)\n",
    "\n",
    "cfm = confusion_matrix(y_test, y_pred)\n",
    "tn, fp, fn, tp = cfm.ravel()\n",
    "cfm\n",
    "\n",
    "df_cfm = pd.DataFrame(cfm)\n",
    "df_cfm.rename(columns = {0:'Down', 1:'Up'}, inplace = True)\n",
    "df_cfm.rename(index = {0:\"Down\", 1:\"Up\"}, inplace = True)\n",
    "\n",
    "print(df_cfm)\n",
    "\n",
    "acc = (tp+tn)/(tp+fn+tn+fp)\n",
    "acc"
   ]
  },
  {
   "cell_type": "markdown",
   "metadata": {},
   "source": [
    "When K=10, we see that the accuracy increased from 0.529 to 0.567."
   ]
  },
  {
   "cell_type": "markdown",
   "metadata": {},
   "source": [
    "### K=20"
   ]
  },
  {
   "cell_type": "code",
   "execution_count": 72,
   "metadata": {},
   "outputs": [
    {
     "name": "stdout",
     "output_type": "stream",
     "text": [
      "      Down  Up\n",
      "Down    23  20\n",
      "Up      22  39\n"
     ]
    },
    {
     "data": {
      "text/plain": [
       "0.5961538461538461"
      ]
     },
     "execution_count": 72,
     "metadata": {},
     "output_type": "execute_result"
    }
   ],
   "source": [
    "features = ['Lag2']\n",
    "X_train = df_train[features]\n",
    "y_train = df_train[response]\n",
    "\n",
    "knn_model = KNN(n_neighbors=20)\n",
    "knn_model.fit(X_train, y_train)\n",
    "\n",
    "X_test = df_test[features]\n",
    "y_test = df_test[response]\n",
    "y_pred = knn_model.predict(X_test)\n",
    "\n",
    "cfm = confusion_matrix(y_test, y_pred)\n",
    "tn, fp, fn, tp = cfm.ravel()\n",
    "cfm\n",
    "\n",
    "df_cfm = pd.DataFrame(cfm)\n",
    "df_cfm.rename(columns = {0:'Down', 1:'Up'}, inplace = True)\n",
    "df_cfm.rename(index = {0:\"Down\", 1:\"Up\"}, inplace = True)\n",
    "\n",
    "print(df_cfm)\n",
    "\n",
    "acc = (tp+tn)/(tp+fn+tn+fp)\n",
    "acc"
   ]
  },
  {
   "cell_type": "markdown",
   "metadata": {},
   "source": [
    "When K=20, we see that the accuracy increased from 0.567 to 0.596."
   ]
  },
  {
   "cell_type": "markdown",
   "metadata": {},
   "source": [
    "### K=50"
   ]
  },
  {
   "cell_type": "code",
   "execution_count": 73,
   "metadata": {},
   "outputs": [
    {
     "name": "stdout",
     "output_type": "stream",
     "text": [
      "      Down  Up\n",
      "Down    22  21\n",
      "Up      24  37\n"
     ]
    },
    {
     "data": {
      "text/plain": [
       "0.5673076923076923"
      ]
     },
     "execution_count": 73,
     "metadata": {},
     "output_type": "execute_result"
    }
   ],
   "source": [
    "features = ['Lag2']\n",
    "X_train = df_train[features]\n",
    "y_train = df_train[response]\n",
    "\n",
    "knn_model = KNN(n_neighbors=50)\n",
    "knn_model.fit(X_train, y_train)\n",
    "\n",
    "X_test = df_test[features]\n",
    "y_test = df_test[response]\n",
    "y_pred = knn_model.predict(X_test)\n",
    "\n",
    "cfm = confusion_matrix(y_test, y_pred)\n",
    "tn, fp, fn, tp = cfm.ravel()\n",
    "cfm\n",
    "\n",
    "df_cfm = pd.DataFrame(cfm)\n",
    "df_cfm.rename(columns = {0:'Down', 1:'Up'}, inplace = True)\n",
    "df_cfm.rename(index = {0:\"Down\", 1:\"Up\"}, inplace = True)\n",
    "\n",
    "print(df_cfm)\n",
    "\n",
    "acc = (tp+tn)/(tp+fn+tn+fp)\n",
    "acc"
   ]
  },
  {
   "cell_type": "markdown",
   "metadata": {},
   "source": [
    "When K=50, we see that the accuracy is 0.567."
   ]
  },
  {
   "cell_type": "markdown",
   "metadata": {},
   "source": [
    "## K=100"
   ]
  },
  {
   "cell_type": "code",
   "execution_count": 74,
   "metadata": {},
   "outputs": [
    {
     "name": "stdout",
     "output_type": "stream",
     "text": [
      "      Down  Up\n",
      "Down    11  32\n",
      "Up      13  48\n"
     ]
    },
    {
     "data": {
      "text/plain": [
       "0.5673076923076923"
      ]
     },
     "execution_count": 74,
     "metadata": {},
     "output_type": "execute_result"
    }
   ],
   "source": [
    "features = ['Lag2']\n",
    "X_train = df_train[features]\n",
    "y_train = df_train[response]\n",
    "\n",
    "knn_model = KNN(n_neighbors=100)\n",
    "knn_model.fit(X_train, y_train)\n",
    "\n",
    "X_test = df_test[features]\n",
    "y_test = df_test[response]\n",
    "y_pred = knn_model.predict(X_test)\n",
    "\n",
    "cfm = confusion_matrix(y_test, y_pred)\n",
    "tn, fp, fn, tp = cfm.ravel()\n",
    "cfm\n",
    "\n",
    "df_cfm = pd.DataFrame(cfm)\n",
    "df_cfm.rename(columns = {0:'Down', 1:'Up'}, inplace = True)\n",
    "df_cfm.rename(index = {0:\"Down\", 1:\"Up\"}, inplace = True)\n",
    "\n",
    "print(df_cfm)\n",
    "\n",
    "acc = (tp+tn)/(tp+fn+tn+fp)\n",
    "acc"
   ]
  },
  {
   "cell_type": "markdown",
   "metadata": {},
   "source": [
    "When K=100, the accuracy is 0.567."
   ]
  },
  {
   "cell_type": "markdown",
   "metadata": {},
   "source": [
    "### K=150"
   ]
  },
  {
   "cell_type": "code",
   "execution_count": 75,
   "metadata": {},
   "outputs": [
    {
     "name": "stdout",
     "output_type": "stream",
     "text": [
      "      Down  Up\n",
      "Down    10  33\n",
      "Up       6  55\n"
     ]
    },
    {
     "data": {
      "text/plain": [
       "0.625"
      ]
     },
     "execution_count": 75,
     "metadata": {},
     "output_type": "execute_result"
    }
   ],
   "source": [
    "features = ['Lag2']\n",
    "X_train = df_train[features]\n",
    "y_train = df_train[response]\n",
    "\n",
    "knn_model = KNN(n_neighbors=150)\n",
    "knn_model.fit(X_train, y_train)\n",
    "\n",
    "X_test = df_test[features]\n",
    "y_test = df_test[response]\n",
    "y_pred = knn_model.predict(X_test)\n",
    "\n",
    "cfm = confusion_matrix(y_test, y_pred)\n",
    "tn, fp, fn, tp = cfm.ravel()\n",
    "cfm\n",
    "\n",
    "df_cfm = pd.DataFrame(cfm)\n",
    "df_cfm.rename(columns = {0:'Down', 1:'Up'}, inplace = True)\n",
    "df_cfm.rename(index = {0:\"Down\", 1:\"Up\"}, inplace = True)\n",
    "\n",
    "print(df_cfm)\n",
    "\n",
    "acc = (tp+tn)/(tp+fn+tn+fp)\n",
    "acc"
   ]
  },
  {
   "cell_type": "markdown",
   "metadata": {},
   "source": [
    "When K=150, we see that the accuracy is 0.625 which matches the answer is part i to provide the best results."
   ]
  },
  {
   "cell_type": "markdown",
   "metadata": {},
   "source": [
    "### K=200"
   ]
  },
  {
   "cell_type": "code",
   "execution_count": 76,
   "metadata": {},
   "outputs": [
    {
     "name": "stdout",
     "output_type": "stream",
     "text": [
      "      Down  Up\n",
      "Down     3  40\n",
      "Up       1  60\n"
     ]
    },
    {
     "data": {
      "text/plain": [
       "0.6057692307692307"
      ]
     },
     "execution_count": 76,
     "metadata": {},
     "output_type": "execute_result"
    }
   ],
   "source": [
    "features = ['Lag2']\n",
    "X_train = df_train[features]\n",
    "y_train = df_train[response]\n",
    "\n",
    "knn_model = KNN(n_neighbors=200)\n",
    "knn_model.fit(X_train, y_train)\n",
    "\n",
    "X_test = df_test[features]\n",
    "y_test = df_test[response]\n",
    "y_pred = knn_model.predict(X_test)\n",
    "\n",
    "cfm = confusion_matrix(y_test, y_pred)\n",
    "tn, fp, fn, tp = cfm.ravel()\n",
    "cfm\n",
    "\n",
    "df_cfm = pd.DataFrame(cfm)\n",
    "df_cfm.rename(columns = {0:'Down', 1:'Up'}, inplace = True)\n",
    "df_cfm.rename(index = {0:\"Down\", 1:\"Up\"}, inplace = True)\n",
    "\n",
    "print(df_cfm)\n",
    "\n",
    "acc = (tp+tn)/(tp+fn+tn+fp)\n",
    "acc"
   ]
  },
  {
   "cell_type": "markdown",
   "metadata": {},
   "source": [
    "When K=200, we see that the accuracy is 0.606."
   ]
  },
  {
   "cell_type": "markdown",
   "metadata": {},
   "source": [
    "Therefore, KNN can achieve an accuracy of 0.625 which is the highest among all classifiers so far. "
   ]
  },
  {
   "cell_type": "markdown",
   "metadata": {},
   "source": [
    "# 3 Bootstrap Probabilities"
   ]
  },
  {
   "cell_type": "code",
   "execution_count": 77,
   "metadata": {},
   "outputs": [
    {
     "data": {
      "image/png": "[encoded data removed]",
      "text/plain": [
       "<Figure size 432x288 with 1 Axes>"
      ]
     },
     "metadata": {},
     "output_type": "display_data"
    }
   ],
   "source": [
    "x = np.arange(1, 10001)\n",
    "y = 1-(1-1/x)**x\n",
    "\n",
    "plt.plot(x,y)\n",
    "plt.xlabel(\"Number of Observations\")\n",
    "plt.ylabel(\"Prob\")\n",
    "\n",
    "plt.show()"
   ]
  },
  {
   "cell_type": "code",
   "execution_count": 78,
   "metadata": {},
   "outputs": [
    {
     "data": {
      "text/plain": [
       "0.6302"
      ]
     },
     "execution_count": 78,
     "metadata": {},
     "output_type": "execute_result"
    }
   ],
   "source": [
    "np.random.seed(1)\n",
    "list1 = []\n",
    "for i in range(0, 10000):\n",
    "    i = np.sum(np.random.choice(100, 100, replace=True)==4) > 0\n",
    "    list1.append(i)\n",
    "\n",
    "np.mean(list1)"
   ]
  }
 ],
 "metadata": {
  "kernelspec": {
   "display_name": "Python 3",
   "language": "python",
   "name": "python3"
  },
  "language_info": {
   "codemirror_mode": {
    "name": "ipython",
    "version": 3
   },
   "file_extension": ".py",
   "mimetype": "text/x-python",
   "name": "python",
   "nbconvert_exporter": "python",
   "pygments_lexer": "ipython3",
   "version": "3.8.3"
  }
 },
 "nbformat": 4,
 "nbformat_minor": 4
}
